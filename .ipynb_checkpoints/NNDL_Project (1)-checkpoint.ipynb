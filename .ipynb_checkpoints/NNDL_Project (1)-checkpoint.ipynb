{
  "cells": [
    {
      "cell_type": "code",
      "execution_count": null,
      "metadata": {
        "colab": {
          "base_uri": "https://localhost:8080/",
          "height": 73
        },
        "id": "6ptLZDNpo2Fk",
        "outputId": "9569cab4-791f-4723-b9ad-08428501c988"
      },
      "outputs": [
        {
          "output_type": "display_data",
          "data": {
            "text/plain": [
              "<IPython.core.display.HTML object>"
            ],
            "text/html": [
              "\n",
              "     <input type=\"file\" id=\"files-1ee0729a-49ff-4cb7-a32c-3e82b679ffe9\" name=\"files[]\" multiple disabled\n",
              "        style=\"border:none\" />\n",
              "     <output id=\"result-1ee0729a-49ff-4cb7-a32c-3e82b679ffe9\">\n",
              "      Upload widget is only available when the cell has been executed in the\n",
              "      current browser session. Please rerun this cell to enable.\n",
              "      </output>\n",
              "      <script>// Copyright 2017 Google LLC\n",
              "//\n",
              "// Licensed under the Apache License, Version 2.0 (the \"License\");\n",
              "// you may not use this file except in compliance with the License.\n",
              "// You may obtain a copy of the License at\n",
              "//\n",
              "//      http://www.apache.org/licenses/LICENSE-2.0\n",
              "//\n",
              "// Unless required by applicable law or agreed to in writing, software\n",
              "// distributed under the License is distributed on an \"AS IS\" BASIS,\n",
              "// WITHOUT WARRANTIES OR CONDITIONS OF ANY KIND, either express or implied.\n",
              "// See the License for the specific language governing permissions and\n",
              "// limitations under the License.\n",
              "\n",
              "/**\n",
              " * @fileoverview Helpers for google.colab Python module.\n",
              " */\n",
              "(function(scope) {\n",
              "function span(text, styleAttributes = {}) {\n",
              "  const element = document.createElement('span');\n",
              "  element.textContent = text;\n",
              "  for (const key of Object.keys(styleAttributes)) {\n",
              "    element.style[key] = styleAttributes[key];\n",
              "  }\n",
              "  return element;\n",
              "}\n",
              "\n",
              "// Max number of bytes which will be uploaded at a time.\n",
              "const MAX_PAYLOAD_SIZE = 100 * 1024;\n",
              "\n",
              "function _uploadFiles(inputId, outputId) {\n",
              "  const steps = uploadFilesStep(inputId, outputId);\n",
              "  const outputElement = document.getElementById(outputId);\n",
              "  // Cache steps on the outputElement to make it available for the next call\n",
              "  // to uploadFilesContinue from Python.\n",
              "  outputElement.steps = steps;\n",
              "\n",
              "  return _uploadFilesContinue(outputId);\n",
              "}\n",
              "\n",
              "// This is roughly an async generator (not supported in the browser yet),\n",
              "// where there are multiple asynchronous steps and the Python side is going\n",
              "// to poll for completion of each step.\n",
              "// This uses a Promise to block the python side on completion of each step,\n",
              "// then passes the result of the previous step as the input to the next step.\n",
              "function _uploadFilesContinue(outputId) {\n",
              "  const outputElement = document.getElementById(outputId);\n",
              "  const steps = outputElement.steps;\n",
              "\n",
              "  const next = steps.next(outputElement.lastPromiseValue);\n",
              "  return Promise.resolve(next.value.promise).then((value) => {\n",
              "    // Cache the last promise value to make it available to the next\n",
              "    // step of the generator.\n",
              "    outputElement.lastPromiseValue = value;\n",
              "    return next.value.response;\n",
              "  });\n",
              "}\n",
              "\n",
              "/**\n",
              " * Generator function which is called between each async step of the upload\n",
              " * process.\n",
              " * @param {string} inputId Element ID of the input file picker element.\n",
              " * @param {string} outputId Element ID of the output display.\n",
              " * @return {!Iterable<!Object>} Iterable of next steps.\n",
              " */\n",
              "function* uploadFilesStep(inputId, outputId) {\n",
              "  const inputElement = document.getElementById(inputId);\n",
              "  inputElement.disabled = false;\n",
              "\n",
              "  const outputElement = document.getElementById(outputId);\n",
              "  outputElement.innerHTML = '';\n",
              "\n",
              "  const pickedPromise = new Promise((resolve) => {\n",
              "    inputElement.addEventListener('change', (e) => {\n",
              "      resolve(e.target.files);\n",
              "    });\n",
              "  });\n",
              "\n",
              "  const cancel = document.createElement('button');\n",
              "  inputElement.parentElement.appendChild(cancel);\n",
              "  cancel.textContent = 'Cancel upload';\n",
              "  const cancelPromise = new Promise((resolve) => {\n",
              "    cancel.onclick = () => {\n",
              "      resolve(null);\n",
              "    };\n",
              "  });\n",
              "\n",
              "  // Wait for the user to pick the files.\n",
              "  const files = yield {\n",
              "    promise: Promise.race([pickedPromise, cancelPromise]),\n",
              "    response: {\n",
              "      action: 'starting',\n",
              "    }\n",
              "  };\n",
              "\n",
              "  cancel.remove();\n",
              "\n",
              "  // Disable the input element since further picks are not allowed.\n",
              "  inputElement.disabled = true;\n",
              "\n",
              "  if (!files) {\n",
              "    return {\n",
              "      response: {\n",
              "        action: 'complete',\n",
              "      }\n",
              "    };\n",
              "  }\n",
              "\n",
              "  for (const file of files) {\n",
              "    const li = document.createElement('li');\n",
              "    li.append(span(file.name, {fontWeight: 'bold'}));\n",
              "    li.append(span(\n",
              "        `(${file.type || 'n/a'}) - ${file.size} bytes, ` +\n",
              "        `last modified: ${\n",
              "            file.lastModifiedDate ? file.lastModifiedDate.toLocaleDateString() :\n",
              "                                    'n/a'} - `));\n",
              "    const percent = span('0% done');\n",
              "    li.appendChild(percent);\n",
              "\n",
              "    outputElement.appendChild(li);\n",
              "\n",
              "    const fileDataPromise = new Promise((resolve) => {\n",
              "      const reader = new FileReader();\n",
              "      reader.onload = (e) => {\n",
              "        resolve(e.target.result);\n",
              "      };\n",
              "      reader.readAsArrayBuffer(file);\n",
              "    });\n",
              "    // Wait for the data to be ready.\n",
              "    let fileData = yield {\n",
              "      promise: fileDataPromise,\n",
              "      response: {\n",
              "        action: 'continue',\n",
              "      }\n",
              "    };\n",
              "\n",
              "    // Use a chunked sending to avoid message size limits. See b/62115660.\n",
              "    let position = 0;\n",
              "    do {\n",
              "      const length = Math.min(fileData.byteLength - position, MAX_PAYLOAD_SIZE);\n",
              "      const chunk = new Uint8Array(fileData, position, length);\n",
              "      position += length;\n",
              "\n",
              "      const base64 = btoa(String.fromCharCode.apply(null, chunk));\n",
              "      yield {\n",
              "        response: {\n",
              "          action: 'append',\n",
              "          file: file.name,\n",
              "          data: base64,\n",
              "        },\n",
              "      };\n",
              "\n",
              "      let percentDone = fileData.byteLength === 0 ?\n",
              "          100 :\n",
              "          Math.round((position / fileData.byteLength) * 100);\n",
              "      percent.textContent = `${percentDone}% done`;\n",
              "\n",
              "    } while (position < fileData.byteLength);\n",
              "  }\n",
              "\n",
              "  // All done.\n",
              "  yield {\n",
              "    response: {\n",
              "      action: 'complete',\n",
              "    }\n",
              "  };\n",
              "}\n",
              "\n",
              "scope.google = scope.google || {};\n",
              "scope.google.colab = scope.google.colab || {};\n",
              "scope.google.colab._files = {\n",
              "  _uploadFiles,\n",
              "  _uploadFilesContinue,\n",
              "};\n",
              "})(self);\n",
              "</script> "
            ]
          },
          "metadata": {}
        },
        {
          "output_type": "stream",
          "name": "stdout",
          "text": [
            "Saving Restaurant_Reviews.tsv to Restaurant_Reviews.tsv\n"
          ]
        }
      ],
      "source": [
        "from google.colab import files\n",
        "uploaded = files.upload()"
      ]
    },
    {
      "cell_type": "code",
      "source": [
        "import numpy as np\n",
        "import pandas as pd\n",
        "import re\n",
        "import nltk\n",
        "import seaborn as sns\n",
        "from nltk.corpus import stopwords\n",
        "from sklearn.model_selection import train_test_split\n",
        "from sklearn.metrics import accuracy_score, confusion_matrix\n",
        "from sklearn.feature_extraction.text import CountVectorizer\n",
        "from sklearn.preprocessing import LabelEncoder\n",
        "from keras.models import Sequential\n",
        "from keras.layers import Dense, Embedding, LSTM, Flatten\n",
        "from tensorflow.keras.preprocessing.sequence import pad_sequences\n",
        "from tensorflow.keras.preprocessing.text import Tokenizer"
      ],
      "metadata": {
        "id": "XBfs25hidjRe"
      },
      "execution_count": 94,
      "outputs": []
    },
    {
      "cell_type": "code",
      "source": [
        "nltk.download('stopwords')"
      ],
      "metadata": {
        "colab": {
          "base_uri": "https://localhost:8080/"
        },
        "id": "YFaO26R5dm92",
        "outputId": "d3998046-9767-4b01-93e9-50e926b3fd4b"
      },
      "execution_count": null,
      "outputs": [
        {
          "output_type": "stream",
          "name": "stderr",
          "text": [
            "[nltk_data] Downloading package stopwords to /root/nltk_data...\n",
            "[nltk_data]   Unzipping corpora/stopwords.zip.\n"
          ]
        },
        {
          "output_type": "execute_result",
          "data": {
            "text/plain": [
              "True"
            ]
          },
          "metadata": {},
          "execution_count": 4
        }
      ]
    },
    {
      "cell_type": "code",
      "source": [
        "# Load dataset\n",
        "dataset = pd.read_csv('Restaurant_Reviews.tsv', delimiter='\\t', quoting=3)\n"
      ],
      "metadata": {
        "id": "FL2Kk-BadqxF"
      },
      "execution_count": null,
      "outputs": []
    },
    {
      "cell_type": "code",
      "source": [
        "# Preprocess the text data\n",
        "\n",
        "def pre_processing_text(data):\n",
        "  corpus = []\n",
        "  for i in range(len(data)):\n",
        "      review = re.sub('[^a-zA-Z]', ' ', data[i])\n",
        "      review = review.lower().split()\n",
        "      review = [word for word in review if word not in set(stopwords.words('english'))]\n",
        "      review = ' '.join(review)\n",
        "      corpus.append(review)\n",
        "  return corpus\n",
        "\n",
        "corpus = pre_processing_text(dataset['Review'])\n",
        "# Convert labels to binary\n",
        "label_encoder = LabelEncoder()\n",
        "y = label_encoder.fit_transform(dataset['Liked'])\n",
        "\n",
        "# # Transform text data to numerical vectors\n",
        "# cv = CountVectorizer(max_features=1500)\n",
        "# X = cv.fit_transform(corpus).toarray()"
      ],
      "metadata": {
        "id": "0UnBFCxXdtFi"
      },
      "execution_count": 110,
      "outputs": []
    },
    {
      "cell_type": "code",
      "source": [
        "max_features = 1500\n",
        "max_len = 150\n",
        "tokenizer = Tokenizer(num_words=max_features, split=' ')\n",
        "tokenizer.fit_on_texts(corpus)\n",
        "X = tokenizer.texts_to_sequences(corpus)\n",
        "\n",
        "X = pad_sequences(X,maxlen=max_len)"
      ],
      "metadata": {
        "id": "7G-hr-B6qz51"
      },
      "execution_count": 111,
      "outputs": []
    },
    {
      "cell_type": "code",
      "source": [
        "# Split the dataset into training and testing sets\n",
        "X_train, X_test, y_train, y_test = train_test_split(X, y, test_size=0.2, random_state=0)\n",
        "\n",
        "# # Reshape input data for LSTM\n",
        "# X_train_lstm = np.reshape(X_train, (X_train.shape[0], 1, X_train.shape[1]))\n",
        "# X_test_lstm = np.reshape(X_test, (X_test.shape[0], 1, X_test.shape[1]))"
      ],
      "metadata": {
        "id": "CtVjHXO0d5Vj"
      },
      "execution_count": 112,
      "outputs": []
    },
    {
      "cell_type": "code",
      "source": [
        "# Define LSTM model\n",
        "lstm_model = Sequential()\n",
        "lstm_model.add(Embedding(max_features, 512,input_length = max_len))\n",
        "lstm_model.add(LSTM(units=256, dropout=0.5,recurrent_dropout=0.2,return_sequences=True))\n",
        "lstm_model.add(LSTM(units=196, dropout=0.2,recurrent_dropout=0.2))\n",
        "lstm_model.add(Dense(128, activation='relu'))\n",
        "lstm_model.add(Dense(64, activation='relu'))\n",
        "lstm_model.add(Dense(1, activation='sigmoid'))\n",
        "lstm_model.compile(optimizer='adam', loss='binary_crossentropy', metrics=['accuracy'])"
      ],
      "metadata": {
        "id": "7iHf2cB6d7Nc"
      },
      "execution_count": 114,
      "outputs": []
    },
    {
      "cell_type": "code",
      "source": [
        "\n",
        "# Train LSTM model\n",
        "lstm_model.fit(X_train, y_train, epochs=25, batch_size=32, verbose=1)\n"
      ],
      "metadata": {
        "colab": {
          "base_uri": "https://localhost:8080/"
        },
        "id": "9DxwCnOHd9jM",
        "outputId": "9adb048a-6d64-43de-fd2f-453a85d38077"
      },
      "execution_count": 115,
      "outputs": [
        {
          "output_type": "stream",
          "name": "stdout",
          "text": [
            "Epoch 1/25\n",
            "25/25 [==============================] - 11s 309ms/step - loss: 0.6957 - accuracy: 0.4925\n",
            "Epoch 2/25\n",
            "25/25 [==============================] - 8s 310ms/step - loss: 0.6764 - accuracy: 0.6062\n",
            "Epoch 3/25\n",
            "25/25 [==============================] - 8s 315ms/step - loss: 0.3993 - accuracy: 0.8438\n",
            "Epoch 4/25\n",
            "25/25 [==============================] - 8s 309ms/step - loss: 0.2042 - accuracy: 0.9212\n",
            "Epoch 5/25\n",
            "25/25 [==============================] - 8s 308ms/step - loss: 0.1316 - accuracy: 0.9550\n",
            "Epoch 6/25\n",
            "25/25 [==============================] - 8s 308ms/step - loss: 0.1011 - accuracy: 0.9525\n",
            "Epoch 7/25\n",
            "25/25 [==============================] - 8s 307ms/step - loss: 0.0649 - accuracy: 0.9787\n",
            "Epoch 8/25\n",
            "25/25 [==============================] - 8s 308ms/step - loss: 0.0560 - accuracy: 0.9812\n",
            "Epoch 9/25\n",
            "25/25 [==============================] - 8s 307ms/step - loss: 0.0376 - accuracy: 0.9875\n",
            "Epoch 10/25\n",
            "25/25 [==============================] - 8s 303ms/step - loss: 0.0374 - accuracy: 0.9825\n",
            "Epoch 11/25\n",
            "25/25 [==============================] - 8s 306ms/step - loss: 0.0360 - accuracy: 0.9862\n",
            "Epoch 12/25\n",
            "25/25 [==============================] - 8s 307ms/step - loss: 0.0453 - accuracy: 0.9837\n",
            "Epoch 13/25\n",
            "25/25 [==============================] - 8s 307ms/step - loss: 0.0317 - accuracy: 0.9837\n",
            "Epoch 14/25\n",
            "25/25 [==============================] - 8s 308ms/step - loss: 0.0279 - accuracy: 0.9887\n",
            "Epoch 15/25\n",
            "25/25 [==============================] - 8s 309ms/step - loss: 0.0255 - accuracy: 0.9887\n",
            "Epoch 16/25\n",
            "25/25 [==============================] - 8s 307ms/step - loss: 0.0292 - accuracy: 0.9875\n",
            "Epoch 17/25\n",
            "25/25 [==============================] - 8s 307ms/step - loss: 0.0201 - accuracy: 0.9912\n",
            "Epoch 18/25\n",
            "25/25 [==============================] - 8s 307ms/step - loss: 0.0241 - accuracy: 0.9912\n",
            "Epoch 19/25\n",
            "25/25 [==============================] - 8s 308ms/step - loss: 0.0243 - accuracy: 0.9912\n",
            "Epoch 20/25\n",
            "25/25 [==============================] - 8s 305ms/step - loss: 0.0204 - accuracy: 0.9925\n",
            "Epoch 21/25\n",
            "25/25 [==============================] - 8s 304ms/step - loss: 0.0170 - accuracy: 0.9912\n",
            "Epoch 22/25\n",
            "25/25 [==============================] - 8s 308ms/step - loss: 0.0176 - accuracy: 0.9912\n",
            "Epoch 23/25\n",
            "25/25 [==============================] - 8s 308ms/step - loss: 0.0205 - accuracy: 0.9912\n",
            "Epoch 24/25\n",
            "25/25 [==============================] - 8s 308ms/step - loss: 0.0178 - accuracy: 0.9925\n",
            "Epoch 25/25\n",
            "25/25 [==============================] - 8s 307ms/step - loss: 0.0165 - accuracy: 0.9912\n"
          ]
        },
        {
          "output_type": "execute_result",
          "data": {
            "text/plain": [
              "<keras.src.callbacks.History at 0x7a7acd7560b0>"
            ]
          },
          "metadata": {},
          "execution_count": 115
        }
      ]
    },
    {
      "cell_type": "code",
      "source": [
        "\n",
        "# Evaluate LSTM model\n",
        "lstm_loss, lstm_accuracy = lstm_model.evaluate(X_test, y_test)\n",
        "print(\"LSTM Test Accuracy:\", lstm_accuracy)\n"
      ],
      "metadata": {
        "colab": {
          "base_uri": "https://localhost:8080/"
        },
        "id": "PbFcPutZeBB5",
        "outputId": "9f8b05ed-76a5-4483-de22-31c453e70cea"
      },
      "execution_count": 116,
      "outputs": [
        {
          "output_type": "stream",
          "name": "stdout",
          "text": [
            "7/7 [==============================] - 1s 93ms/step - loss: 1.5382 - accuracy: 0.7600\n",
            "LSTM Test Accuracy: 0.7599999904632568\n"
          ]
        }
      ]
    },
    {
      "cell_type": "code",
      "source": [
        "# Predict sentiment for a new review using both models\n",
        "input_text = ['Place is good but the food is worst']\n",
        "# input_vector = cv.transform(input_text).toarray()\n",
        "input_vector_test = tokenizer.texts_to_sequences(input_text)\n",
        "\n",
        "input_vector_seq = pad_sequences(input_vector_test,maxlen=max_len)\n",
        "\n",
        "# LSTM model prediction\n",
        "lstm_prediction = lstm_model.predict(input_vector_seq)[0][0]\n",
        "if lstm_prediction >= 0.5:\n",
        "    print('LSTM: Review is Positive')\n",
        "else:\n",
        "    print('LSTM: Review is Negative')"
      ],
      "metadata": {
        "colab": {
          "base_uri": "https://localhost:8080/"
        },
        "id": "jfqBx4Z90Q-7",
        "outputId": "120922dd-ae61-4af9-8dd0-975a80f2f1f5"
      },
      "execution_count": 119,
      "outputs": [
        {
          "output_type": "stream",
          "name": "stdout",
          "text": [
            "1/1 [==============================] - 1s 1s/step\n",
            "LSTM: Review is Negative\n"
          ]
        }
      ]
    },
    {
      "cell_type": "code",
      "source": [],
      "metadata": {
        "id": "fnoWvtjV4aQX"
      },
      "execution_count": null,
      "outputs": []
    }
  ],
  "metadata": {
    "colab": {
      "provenance": [],
      "gpuType": "V28"
    },
    "kernelspec": {
      "display_name": "Python 3",
      "name": "python3"
    },
    "language_info": {
      "name": "python"
    },
    "accelerator": "TPU"
  },
  "nbformat": 4,
  "nbformat_minor": 0
}