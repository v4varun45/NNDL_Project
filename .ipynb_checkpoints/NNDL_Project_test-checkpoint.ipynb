{
  "cells": [
    {
      "cell_type": "markdown",
      "metadata": {
        "id": "view-in-github",
        "colab_type": "text"
      },
      "source": [
        "<a href=\"https://colab.research.google.com/github/kvamsi7/mscs/blob/mscs_nn_prj/CS5720-Neural%20Network%20and%20Deep%20Learning/NN_Final_Project/NNDL_Project_test.ipynb\" target=\"_parent\"><img src=\"https://colab.research.google.com/assets/colab-badge.svg\" alt=\"Open In Colab\"/></a>"
      ]
    },
    {
      "cell_type": "code",
      "execution_count": 1,
      "metadata": {
        "colab": {
          "base_uri": "https://localhost:8080/",
          "height": 73
        },
        "id": "6ptLZDNpo2Fk",
        "outputId": "e6106193-1c45-4e42-9d93-9d8dbb94cc0e"
      },
      "outputs": [
        {
          "output_type": "display_data",
          "data": {
            "text/plain": [
              "<IPython.core.display.HTML object>"
            ],
            "text/html": [
              "\n",
              "     <input type=\"file\" id=\"files-8d55b52b-7927-47ec-9a35-b806087a9727\" name=\"files[]\" multiple disabled\n",
              "        style=\"border:none\" />\n",
              "     <output id=\"result-8d55b52b-7927-47ec-9a35-b806087a9727\">\n",
              "      Upload widget is only available when the cell has been executed in the\n",
              "      current browser session. Please rerun this cell to enable.\n",
              "      </output>\n",
              "      <script>// Copyright 2017 Google LLC\n",
              "//\n",
              "// Licensed under the Apache License, Version 2.0 (the \"License\");\n",
              "// you may not use this file except in compliance with the License.\n",
              "// You may obtain a copy of the License at\n",
              "//\n",
              "//      http://www.apache.org/licenses/LICENSE-2.0\n",
              "//\n",
              "// Unless required by applicable law or agreed to in writing, software\n",
              "// distributed under the License is distributed on an \"AS IS\" BASIS,\n",
              "// WITHOUT WARRANTIES OR CONDITIONS OF ANY KIND, either express or implied.\n",
              "// See the License for the specific language governing permissions and\n",
              "// limitations under the License.\n",
              "\n",
              "/**\n",
              " * @fileoverview Helpers for google.colab Python module.\n",
              " */\n",
              "(function(scope) {\n",
              "function span(text, styleAttributes = {}) {\n",
              "  const element = document.createElement('span');\n",
              "  element.textContent = text;\n",
              "  for (const key of Object.keys(styleAttributes)) {\n",
              "    element.style[key] = styleAttributes[key];\n",
              "  }\n",
              "  return element;\n",
              "}\n",
              "\n",
              "// Max number of bytes which will be uploaded at a time.\n",
              "const MAX_PAYLOAD_SIZE = 100 * 1024;\n",
              "\n",
              "function _uploadFiles(inputId, outputId) {\n",
              "  const steps = uploadFilesStep(inputId, outputId);\n",
              "  const outputElement = document.getElementById(outputId);\n",
              "  // Cache steps on the outputElement to make it available for the next call\n",
              "  // to uploadFilesContinue from Python.\n",
              "  outputElement.steps = steps;\n",
              "\n",
              "  return _uploadFilesContinue(outputId);\n",
              "}\n",
              "\n",
              "// This is roughly an async generator (not supported in the browser yet),\n",
              "// where there are multiple asynchronous steps and the Python side is going\n",
              "// to poll for completion of each step.\n",
              "// This uses a Promise to block the python side on completion of each step,\n",
              "// then passes the result of the previous step as the input to the next step.\n",
              "function _uploadFilesContinue(outputId) {\n",
              "  const outputElement = document.getElementById(outputId);\n",
              "  const steps = outputElement.steps;\n",
              "\n",
              "  const next = steps.next(outputElement.lastPromiseValue);\n",
              "  return Promise.resolve(next.value.promise).then((value) => {\n",
              "    // Cache the last promise value to make it available to the next\n",
              "    // step of the generator.\n",
              "    outputElement.lastPromiseValue = value;\n",
              "    return next.value.response;\n",
              "  });\n",
              "}\n",
              "\n",
              "/**\n",
              " * Generator function which is called between each async step of the upload\n",
              " * process.\n",
              " * @param {string} inputId Element ID of the input file picker element.\n",
              " * @param {string} outputId Element ID of the output display.\n",
              " * @return {!Iterable<!Object>} Iterable of next steps.\n",
              " */\n",
              "function* uploadFilesStep(inputId, outputId) {\n",
              "  const inputElement = document.getElementById(inputId);\n",
              "  inputElement.disabled = false;\n",
              "\n",
              "  const outputElement = document.getElementById(outputId);\n",
              "  outputElement.innerHTML = '';\n",
              "\n",
              "  const pickedPromise = new Promise((resolve) => {\n",
              "    inputElement.addEventListener('change', (e) => {\n",
              "      resolve(e.target.files);\n",
              "    });\n",
              "  });\n",
              "\n",
              "  const cancel = document.createElement('button');\n",
              "  inputElement.parentElement.appendChild(cancel);\n",
              "  cancel.textContent = 'Cancel upload';\n",
              "  const cancelPromise = new Promise((resolve) => {\n",
              "    cancel.onclick = () => {\n",
              "      resolve(null);\n",
              "    };\n",
              "  });\n",
              "\n",
              "  // Wait for the user to pick the files.\n",
              "  const files = yield {\n",
              "    promise: Promise.race([pickedPromise, cancelPromise]),\n",
              "    response: {\n",
              "      action: 'starting',\n",
              "    }\n",
              "  };\n",
              "\n",
              "  cancel.remove();\n",
              "\n",
              "  // Disable the input element since further picks are not allowed.\n",
              "  inputElement.disabled = true;\n",
              "\n",
              "  if (!files) {\n",
              "    return {\n",
              "      response: {\n",
              "        action: 'complete',\n",
              "      }\n",
              "    };\n",
              "  }\n",
              "\n",
              "  for (const file of files) {\n",
              "    const li = document.createElement('li');\n",
              "    li.append(span(file.name, {fontWeight: 'bold'}));\n",
              "    li.append(span(\n",
              "        `(${file.type || 'n/a'}) - ${file.size} bytes, ` +\n",
              "        `last modified: ${\n",
              "            file.lastModifiedDate ? file.lastModifiedDate.toLocaleDateString() :\n",
              "                                    'n/a'} - `));\n",
              "    const percent = span('0% done');\n",
              "    li.appendChild(percent);\n",
              "\n",
              "    outputElement.appendChild(li);\n",
              "\n",
              "    const fileDataPromise = new Promise((resolve) => {\n",
              "      const reader = new FileReader();\n",
              "      reader.onload = (e) => {\n",
              "        resolve(e.target.result);\n",
              "      };\n",
              "      reader.readAsArrayBuffer(file);\n",
              "    });\n",
              "    // Wait for the data to be ready.\n",
              "    let fileData = yield {\n",
              "      promise: fileDataPromise,\n",
              "      response: {\n",
              "        action: 'continue',\n",
              "      }\n",
              "    };\n",
              "\n",
              "    // Use a chunked sending to avoid message size limits. See b/62115660.\n",
              "    let position = 0;\n",
              "    do {\n",
              "      const length = Math.min(fileData.byteLength - position, MAX_PAYLOAD_SIZE);\n",
              "      const chunk = new Uint8Array(fileData, position, length);\n",
              "      position += length;\n",
              "\n",
              "      const base64 = btoa(String.fromCharCode.apply(null, chunk));\n",
              "      yield {\n",
              "        response: {\n",
              "          action: 'append',\n",
              "          file: file.name,\n",
              "          data: base64,\n",
              "        },\n",
              "      };\n",
              "\n",
              "      let percentDone = fileData.byteLength === 0 ?\n",
              "          100 :\n",
              "          Math.round((position / fileData.byteLength) * 100);\n",
              "      percent.textContent = `${percentDone}% done`;\n",
              "\n",
              "    } while (position < fileData.byteLength);\n",
              "  }\n",
              "\n",
              "  // All done.\n",
              "  yield {\n",
              "    response: {\n",
              "      action: 'complete',\n",
              "    }\n",
              "  };\n",
              "}\n",
              "\n",
              "scope.google = scope.google || {};\n",
              "scope.google.colab = scope.google.colab || {};\n",
              "scope.google.colab._files = {\n",
              "  _uploadFiles,\n",
              "  _uploadFilesContinue,\n",
              "};\n",
              "})(self);\n",
              "</script> "
            ]
          },
          "metadata": {}
        },
        {
          "output_type": "stream",
          "name": "stdout",
          "text": [
            "Saving Restaurant_Reviews.tsv to Restaurant_Reviews.tsv\n"
          ]
        }
      ],
      "source": [
        "from google.colab import files\n",
        "uploaded = files.upload()"
      ]
    },
    {
      "cell_type": "code",
      "source": [
        "import numpy as np\n",
        "import pandas as pd\n",
        "import re\n",
        "import nltk\n",
        "import seaborn as sns\n",
        "from nltk.corpus import stopwords\n",
        "from sklearn.model_selection import train_test_split\n",
        "from sklearn.metrics import accuracy_score, confusion_matrix\n",
        "from sklearn.feature_extraction.text import CountVectorizer\n",
        "from sklearn.preprocessing import LabelEncoder\n",
        "from keras.models import Sequential\n",
        "from keras.callbacks import EarlyStopping\n",
        "from keras.layers import Dense, Embedding, LSTM, Flatten,Bidirectional\n",
        "from tensorflow.keras.preprocessing.sequence import pad_sequences\n",
        "from tensorflow.keras.preprocessing.text import Tokenizer\n",
        "from sklearn.metrics import confusion_matrix,classification_report\n",
        "import seaborn as sns\n",
        "import matplotlib.pyplot as plt"
      ],
      "metadata": {
        "id": "XBfs25hidjRe"
      },
      "execution_count": 24,
      "outputs": []
    },
    {
      "cell_type": "code",
      "source": [
        "nltk.download('stopwords')"
      ],
      "metadata": {
        "colab": {
          "base_uri": "https://localhost:8080/"
        },
        "id": "YFaO26R5dm92",
        "outputId": "8f1afb77-5031-4f21-cd68-7b8b3d004ad8"
      },
      "execution_count": 3,
      "outputs": [
        {
          "output_type": "stream",
          "name": "stderr",
          "text": [
            "[nltk_data] Downloading package stopwords to /root/nltk_data...\n",
            "[nltk_data]   Unzipping corpora/stopwords.zip.\n"
          ]
        },
        {
          "output_type": "execute_result",
          "data": {
            "text/plain": [
              "True"
            ]
          },
          "metadata": {},
          "execution_count": 3
        }
      ]
    },
    {
      "cell_type": "code",
      "source": [
        "# Load dataset\n",
        "dataset = pd.read_csv('Restaurant_Reviews.tsv', delimiter='\\t', quoting=3)\n"
      ],
      "metadata": {
        "id": "FL2Kk-BadqxF"
      },
      "execution_count": 4,
      "outputs": []
    },
    {
      "cell_type": "code",
      "source": [
        "# Preprocess the text data\n",
        "\n",
        "def pre_processing_text(data):\n",
        "  corpus = []\n",
        "  for i in range(len(data)):\n",
        "      review = re.sub('[^a-zA-Z]', ' ', data[i])\n",
        "      review = review.lower().split()\n",
        "      review = [word for word in review if word not in set(stopwords.words('english'))]\n",
        "      review = ' '.join(review)\n",
        "      corpus.append(review)\n",
        "  return corpus\n",
        "\n",
        "corpus = pre_processing_text(dataset['Review'])\n",
        "# Convert labels to binary\n",
        "label_encoder = LabelEncoder()\n",
        "y = label_encoder.fit_transform(dataset['Liked'])\n",
        "\n",
        "# # Transform text data to numerical vectors\n",
        "# cv = CountVectorizer(max_features=1500)\n",
        "# X = cv.fit_transform(corpus).toarray()"
      ],
      "metadata": {
        "id": "0UnBFCxXdtFi"
      },
      "execution_count": 5,
      "outputs": []
    },
    {
      "cell_type": "code",
      "source": [
        "max_features = 1500\n",
        "max_len = 100\n",
        "tokenizer = Tokenizer(num_words=max_features, split=' ')\n",
        "tokenizer.fit_on_texts(corpus)\n",
        "X = tokenizer.texts_to_sequences(corpus)\n",
        "\n",
        "X = pad_sequences(X,maxlen=max_len)"
      ],
      "metadata": {
        "id": "7G-hr-B6qz51"
      },
      "execution_count": 28,
      "outputs": []
    },
    {
      "cell_type": "code",
      "source": [
        "# saving tokenizer\n",
        "import pickle\n",
        "tokenizer_path = 'tokenizer.pkl'\n",
        "pickle.dump(tokenizer,open(tokenizer_path,'wb'))"
      ],
      "metadata": {
        "id": "WRWGyh_5mjCa"
      },
      "execution_count": 53,
      "outputs": []
    },
    {
      "cell_type": "code",
      "source": [
        "# Split the dataset into training and testing sets\n",
        "X_train, X_test, y_train, y_test = train_test_split(X, y, test_size=0.2, random_state=0)\n",
        "\n",
        "# # Reshape input data for LSTM\n",
        "# X_train_lstm = np.reshape(X_train, (X_train.shape[0], 1, X_train.shape[1]))\n",
        "# X_test_lstm = np.reshape(X_test, (X_test.shape[0], 1, X_test.shape[1]))"
      ],
      "metadata": {
        "id": "CtVjHXO0d5Vj"
      },
      "execution_count": 29,
      "outputs": []
    },
    {
      "cell_type": "code",
      "source": [
        "from keras.layers import Layer\n",
        "import keras.backend as K\n",
        "\n",
        "class Attention(Layer):\n",
        "    def __init__(self, **kwargs):\n",
        "        super(Attention, self).__init__(**kwargs)\n",
        "\n",
        "    def build(self, input_shape):\n",
        "        self.W = self.add_weight(name=\"att_weight\", shape=(input_shape[-1], 1),\n",
        "                                 initializer=\"normal\")\n",
        "        self.b = self.add_weight(name=\"att_bias\", shape=(input_shape[1], 1),\n",
        "                                 initializer=\"zeros\")\n",
        "        super(Attention, self).build(input_shape)\n",
        "\n",
        "    def call(self, x):\n",
        "        e = K.tanh(K.dot(x, self.W) + self.b)\n",
        "        a = K.softmax(e, axis=1)\n",
        "        output = x * a\n",
        "        return K.sum(output, axis=1)\n",
        "\n",
        "    def compute_output_shape(self, input_shape):\n",
        "        return (input_shape[0], input_shape[-1])"
      ],
      "metadata": {
        "id": "BwID7rpaoJkG"
      },
      "execution_count": 30,
      "outputs": []
    },
    {
      "cell_type": "code",
      "source": [
        "# Define LSTM model\n",
        "lstm_model = Sequential()\n",
        "lstm_model.add(Embedding(max_features, 256,input_length = max_len))\n",
        "lstm_model.add(LSTM(units=196, dropout=0.2,return_sequences=True))\n",
        "lstm_model.add(Bidirectional(LSTM(units=128,recurrent_dropout=0.2)))\n",
        "# lstm_model.add(Attention())  # Add the custom attention layer after LSTM\n",
        "lstm_model.add(Dense(64, activation='relu'))\n",
        "lstm_model.add(Dense(1, activation='sigmoid'))\n",
        "lstm_model.compile(optimizer='adam', loss='binary_crossentropy', metrics=['accuracy'])"
      ],
      "metadata": {
        "id": "7iHf2cB6d7Nc"
      },
      "execution_count": 77,
      "outputs": []
    },
    {
      "cell_type": "code",
      "source": [
        "\n",
        "# callback\n",
        "callback = EarlyStopping(monitor='loss',patience=3)\n",
        "# Train LSTM model\n",
        "lstm_model.fit(X_train, y_train, epochs=25, batch_size=32, callbacks = [callback],verbose=1)\n"
      ],
      "metadata": {
        "colab": {
          "base_uri": "https://localhost:8080/"
        },
        "id": "9DxwCnOHd9jM",
        "outputId": "1ebef957-1258-431c-d562-2adf7c7ff802"
      },
      "execution_count": 78,
      "outputs": [
        {
          "output_type": "stream",
          "name": "stdout",
          "text": [
            "Epoch 1/25\n",
            "25/25 [==============================] - 33s 950ms/step - loss: 0.6948 - accuracy: 0.5013\n",
            "Epoch 2/25\n",
            "25/25 [==============================] - 24s 960ms/step - loss: 0.6832 - accuracy: 0.5562\n",
            "Epoch 3/25\n",
            "25/25 [==============================] - 24s 960ms/step - loss: 0.4117 - accuracy: 0.8438\n",
            "Epoch 4/25\n",
            "25/25 [==============================] - 25s 1s/step - loss: 0.1937 - accuracy: 0.9162\n",
            "Epoch 5/25\n",
            "25/25 [==============================] - 24s 940ms/step - loss: 0.1135 - accuracy: 0.9625\n",
            "Epoch 6/25\n",
            "25/25 [==============================] - 24s 932ms/step - loss: 0.0707 - accuracy: 0.9688\n",
            "Epoch 7/25\n",
            "25/25 [==============================] - 23s 930ms/step - loss: 0.0516 - accuracy: 0.9825\n",
            "Epoch 8/25\n",
            "25/25 [==============================] - 24s 952ms/step - loss: 0.0435 - accuracy: 0.9825\n",
            "Epoch 9/25\n",
            "25/25 [==============================] - 25s 991ms/step - loss: 0.0363 - accuracy: 0.9912\n",
            "Epoch 10/25\n",
            "25/25 [==============================] - 22s 879ms/step - loss: 0.0287 - accuracy: 0.9875\n",
            "Epoch 11/25\n",
            "25/25 [==============================] - 23s 924ms/step - loss: 0.0259 - accuracy: 0.9887\n",
            "Epoch 12/25\n",
            "25/25 [==============================] - 23s 936ms/step - loss: 0.0236 - accuracy: 0.9900\n",
            "Epoch 13/25\n",
            "25/25 [==============================] - 24s 954ms/step - loss: 0.0215 - accuracy: 0.9900\n",
            "Epoch 14/25\n",
            "25/25 [==============================] - 23s 905ms/step - loss: 0.0264 - accuracy: 0.9900\n",
            "Epoch 15/25\n",
            "25/25 [==============================] - 24s 968ms/step - loss: 0.0233 - accuracy: 0.9925\n",
            "Epoch 16/25\n",
            "25/25 [==============================] - 24s 968ms/step - loss: 0.0238 - accuracy: 0.9887\n"
          ]
        },
        {
          "output_type": "execute_result",
          "data": {
            "text/plain": [
              "<keras.src.callbacks.History at 0x7e45f14ae080>"
            ]
          },
          "metadata": {},
          "execution_count": 78
        }
      ]
    },
    {
      "cell_type": "code",
      "source": [
        "\n",
        "# Evaluate LSTM model\n",
        "lstm_loss, lstm_accuracy = lstm_model.evaluate(X_test, y_test)\n",
        "print(\"LSTM Test Accuracy:\", lstm_accuracy)\n"
      ],
      "metadata": {
        "colab": {
          "base_uri": "https://localhost:8080/"
        },
        "id": "PbFcPutZeBB5",
        "outputId": "b5e89ed8-a45e-4626-f49f-f14ccf47a346"
      },
      "execution_count": 79,
      "outputs": [
        {
          "output_type": "stream",
          "name": "stdout",
          "text": [
            "7/7 [==============================] - 3s 237ms/step - loss: 1.3504 - accuracy: 0.7350\n",
            "LSTM Test Accuracy: 0.7350000143051147\n"
          ]
        }
      ]
    },
    {
      "cell_type": "code",
      "source": [
        "# Predict sentiment for a new review using both models\n",
        "input_text = ['Place is good but the food is worst']\n",
        "# input_vector = cv.transform(input_text).toarray()\n",
        "input_vector_test = tokenizer.texts_to_sequences(input_text)\n",
        "\n",
        "input_vector_seq = pad_sequences(input_vector_test,maxlen=max_len)\n",
        "\n",
        "# LSTM model prediction\n",
        "lstm_prediction = lstm_model.predict(input_vector_seq)[0][0]\n",
        "if lstm_prediction >= 0.5:\n",
        "    print('LSTM: Review is Positive')\n",
        "else:\n",
        "    print('LSTM: Review is Negative')"
      ],
      "metadata": {
        "colab": {
          "base_uri": "https://localhost:8080/"
        },
        "id": "jfqBx4Z90Q-7",
        "outputId": "609409ce-6062-4052-ec41-96d86c49a1c4"
      },
      "execution_count": 80,
      "outputs": [
        {
          "output_type": "stream",
          "name": "stdout",
          "text": [
            "1/1 [==============================] - 1s 934ms/step\n",
            "LSTM: Review is Negative\n"
          ]
        }
      ]
    },
    {
      "cell_type": "code",
      "source": [
        "y_pred = np.array([1 if y_p > 0.5 else 0 for y_p in lstm_model.predict(X_test)])"
      ],
      "metadata": {
        "colab": {
          "base_uri": "https://localhost:8080/"
        },
        "id": "fnoWvtjV4aQX",
        "outputId": "dafd86c7-29e6-4b1b-b544-b7700a341791"
      },
      "execution_count": 81,
      "outputs": [
        {
          "output_type": "stream",
          "name": "stdout",
          "text": [
            "7/7 [==============================] - 1s 173ms/step\n"
          ]
        }
      ]
    },
    {
      "cell_type": "code",
      "source": [
        "cf_matrix = confusion_matrix(y_test,y_pred)\n",
        "group_names = ['True Neg','False Pos','False Neg','True Pos']\n",
        "group_counts = [\"{0:0.0f}\".format(value) for value in\n",
        "                cf_matrix.flatten()]\n",
        "group_percentages = [\"{0:.2%}\".format(value) for value in\n",
        "                     cf_matrix.flatten()/np.sum(cf_matrix)]\n",
        "labels = [f\"{v1}\\n{v2}\\n{v3}\" for v1, v2, v3 in\n",
        "          zip(group_names,group_counts,group_percentages)]\n",
        "labels = np.asarray(labels).reshape(2,2)\n",
        "sns.heatmap(cf_matrix, annot=labels, fmt=\"\", cmap='Blues')\n",
        "plt.show()"
      ],
      "metadata": {
        "colab": {
          "base_uri": "https://localhost:8080/",
          "height": 430
        },
        "id": "PgWBrz-bpq8d",
        "outputId": "a4946a72-7464-4edc-afbc-cac9aa406a3d"
      },
      "execution_count": 82,
      "outputs": [
        {
          "output_type": "display_data",
          "data": {
            "text/plain": [
              "<Figure size 640x480 with 2 Axes>"
            ],
            "image/png": "[encoded data removed]"
          },
          "metadata": {}
        }
      ]
    },
    {
      "cell_type": "code",
      "source": [
        "print(classification_report(y_test,y_pred))"
      ],
      "metadata": {
        "colab": {
          "base_uri": "https://localhost:8080/"
        },
        "id": "Tfqz2owwp-rK",
        "outputId": "2f4bb389-4fdc-4f83-c4b3-162f4dc18fba"
      },
      "execution_count": 83,
      "outputs": [
        {
          "output_type": "stream",
          "name": "stdout",
          "text": [
            "              precision    recall  f1-score   support\n",
            "\n",
            "           0       0.70      0.80      0.75        97\n",
            "           1       0.78      0.67      0.72       103\n",
            "\n",
            "    accuracy                           0.73       200\n",
            "   macro avg       0.74      0.74      0.73       200\n",
            "weighted avg       0.74      0.73      0.73       200\n",
            "\n"
          ]
        }
      ]
    },
    {
      "cell_type": "code",
      "source": [
        "models_performance = {}\n",
        "def update_model_performance(dictionary, model_name, parameters, accuracy, other_metrics):\n",
        "    \"\"\"\n",
        "    Update the dictionary with model performance metrics.\n",
        "\n",
        "    Args:\n",
        "    dictionary (dict): The dictionary to update.\n",
        "    model_name (str): The name of the model.\n",
        "    parameters (dict): A dictionary of the model's parameters.\n",
        "    accuracy (float): The accuracy of the model on the test set.\n",
        "    other_metrics (dict): Other relevant metrics (like F1-score, precision, recall).\n",
        "\n",
        "    Returns:\n",
        "    None; updates the dictionary in place.\n",
        "    \"\"\"\n",
        "    if model_name in dictionary:\n",
        "        print(f\"Model {model_name} already exists in the dictionary. Updating the existing entry.\")\n",
        "    else:\n",
        "        print(f\"Adding new model {model_name} to the dictionary.\")\n",
        "\n",
        "    dictionary[model_name] = {\n",
        "        'Parameters': parameters,\n",
        "        'Accuracy': accuracy,\n",
        "        'Other Metrics': other_metrics\n",
        "    }\n"
      ],
      "metadata": {
        "id": "Ne5Iip-aqZuW"
      },
      "execution_count": 84,
      "outputs": []
    },
    {
      "cell_type": "code",
      "source": [
        "# Example usage:\n",
        "update_model_performance(models_performance, 'LSTM without attention with adam optimizer', {'units': 256, 'dropout': 0.2, 'recurrent_dropout': 0.2},lstm_accuracy, {'F1 Score': 0.73, 'Recall': 0.74, 'Precision': 0.74})"
      ],
      "metadata": {
        "colab": {
          "base_uri": "https://localhost:8080/"
        },
        "id": "Zf-TcnTALBtn",
        "outputId": "2e89a978-50ca-4d03-882a-76caf4e9c643"
      },
      "execution_count": 85,
      "outputs": [
        {
          "output_type": "stream",
          "name": "stdout",
          "text": [
            "Adding new model LSTM without attention with adam optimizer to the dictionary.\n"
          ]
        }
      ]
    },
    {
      "cell_type": "code",
      "source": [
        "pd.DataFrame(models_performance).T.reset_index()"
      ],
      "metadata": {
        "colab": {
          "base_uri": "https://localhost:8080/",
          "height": 334
        },
        "id": "YrVpS7p5iItA",
        "outputId": "22e3d830-582a-426e-aba2-bfd301d1220a"
      },
      "execution_count": 86,
      "outputs": [
        {
          "output_type": "execute_result",
          "data": {
            "text/plain": [
              "                                        index Accuracy  \\\n",
              "0  LSTM without attention with adam optimizer    0.735   \n",
              "\n",
              "                                       Other Metrics  \\\n",
              "0  {'F1 Score': 0.73, 'Recall': 0.74, 'Precision'...   \n",
              "\n",
              "                                          Parameters  \n",
              "0  {'units': 256, 'dropout': 0.2, 'recurrent_drop...  "
            ],
            "text/html": [
              "\n",
              "  <div id=\"df-b67374d8-f3f8-49cd-b24b-bf31e4c70f48\" class=\"colab-df-container\">\n",
              "    <div>\n",
              "<style scoped>\n",
              "    .dataframe tbody tr th:only-of-type {\n",
              "        vertical-align: middle;\n",
              "    }\n",
              "\n",
              "    .dataframe tbody tr th {\n",
              "        vertical-align: top;\n",
              "    }\n",
              "\n",
              "    .dataframe thead th {\n",
              "        text-align: right;\n",
              "    }\n",
              "</style>\n",
              "<table border=\"1\" class=\"dataframe\">\n",
              "  <thead>\n",
              "    <tr style=\"text-align: right;\">\n",
              "      <th></th>\n",
              "      <th>index</th>\n",
              "      <th>Accuracy</th>\n",
              "      <th>Other Metrics</th>\n",
              "      <th>Parameters</th>\n",
              "    </tr>\n",
              "  </thead>\n",
              "  <tbody>\n",
              "    <tr>\n",
              "      <th>0</th>\n",
              "      <td>LSTM without attention with adam optimizer</td>\n",
              "      <td>0.735</td>\n",
              "      <td>{'F1 Score': 0.73, 'Recall': 0.74, 'Precision'...</td>\n",
              "      <td>{'units': 256, 'dropout': 0.2, 'recurrent_drop...</td>\n",
              "    </tr>\n",
              "  </tbody>\n",
              "</table>\n",
              "</div>\n",
              "    <div class=\"colab-df-buttons\">\n",
              "\n",
              "  <div class=\"colab-df-container\">\n",
              "    <button class=\"colab-df-convert\" onclick=\"convertToInteractive('df-b67374d8-f3f8-49cd-b24b-bf31e4c70f48')\"\n",
              "            title=\"Convert this dataframe to an interactive table.\"\n",
              "            style=\"display:none;\">\n",
              "\n",
              "  <svg xmlns=\"http://www.w3.org/2000/svg\" height=\"24px\" viewBox=\"0 -960 960 960\">\n",
              "    <path d=\"M120-120v-720h720v720H120Zm60-500h600v-160H180v160Zm220 220h160v-160H400v160Zm0 220h160v-160H400v160ZM180-400h160v-160H180v160Zm440 0h160v-160H620v160ZM180-180h160v-160H180v160Zm440 0h160v-160H620v160Z\"/>\n",
              "  </svg>\n",
              "    </button>\n",
              "\n",
              "  <style>\n",
              "    .colab-df-container {\n",
              "      display:flex;\n",
              "      gap: 12px;\n",
              "    }\n",
              "\n",
              "    .colab-df-convert {\n",
              "      background-color: #E8F0FE;\n",
              "      border: none;\n",
              "      border-radius: 50%;\n",
              "      cursor: pointer;\n",
              "      display: none;\n",
              "      fill: #1967D2;\n",
              "      height: 32px;\n",
              "      padding: 0 0 0 0;\n",
              "      width: 32px;\n",
              "    }\n",
              "\n",
              "    .colab-df-convert:hover {\n",
              "      background-color: #E2EBFA;\n",
              "      box-shadow: 0px 1px 2px rgba(60, 64, 67, 0.3), 0px 1px 3px 1px rgba(60, 64, 67, 0.15);\n",
              "      fill: #174EA6;\n",
              "    }\n",
              "\n",
              "    .colab-df-buttons div {\n",
              "      margin-bottom: 4px;\n",
              "    }\n",
              "\n",
              "    [theme=dark] .colab-df-convert {\n",
              "      background-color: #3B4455;\n",
              "      fill: #D2E3FC;\n",
              "    }\n",
              "\n",
              "    [theme=dark] .colab-df-convert:hover {\n",
              "      background-color: #434B5C;\n",
              "      box-shadow: 0px 1px 3px 1px rgba(0, 0, 0, 0.15);\n",
              "      filter: drop-shadow(0px 1px 2px rgba(0, 0, 0, 0.3));\n",
              "      fill: #FFFFFF;\n",
              "    }\n",
              "  </style>\n",
              "\n",
              "    <script>\n",
              "      const buttonEl =\n",
              "        document.querySelector('#df-b67374d8-f3f8-49cd-b24b-bf31e4c70f48 button.colab-df-convert');\n",
              "      buttonEl.style.display =\n",
              "        google.colab.kernel.accessAllowed ? 'block' : 'none';\n",
              "\n",
              "      async function convertToInteractive(key) {\n",
              "        const element = document.querySelector('#df-b67374d8-f3f8-49cd-b24b-bf31e4c70f48');\n",
              "        const dataTable =\n",
              "          await google.colab.kernel.invokeFunction('convertToInteractive',\n",
              "                                                    [key], {});\n",
              "        if (!dataTable) return;\n",
              "\n",
              "        const docLinkHtml = 'Like what you see? Visit the ' +\n",
              "          '<a target=\"_blank\" href=https://colab.research.google.com/notebooks/data_table.ipynb>data table notebook</a>'\n",
              "          + ' to learn more about interactive tables.';\n",
              "        element.innerHTML = '';\n",
              "        dataTable['output_type'] = 'display_data';\n",
              "        await google.colab.output.renderOutput(dataTable, element);\n",
              "        const docLink = document.createElement('div');\n",
              "        docLink.innerHTML = docLinkHtml;\n",
              "        element.appendChild(docLink);\n",
              "      }\n",
              "    </script>\n",
              "  </div>\n",
              "\n",
              "\n",
              "    </div>\n",
              "  </div>\n"
            ],
            "application/vnd.google.colaboratory.intrinsic+json": {
              "type": "dataframe",
              "summary": "{\n  \"name\": \"pd\",\n  \"rows\": 1,\n  \"fields\": [\n    {\n      \"column\": \"index\",\n      \"properties\": {\n        \"dtype\": \"string\",\n        \"num_unique_values\": 1,\n        \"samples\": [\n          \"LSTM without attention with adam optimizer\"\n        ],\n        \"semantic_type\": \"\",\n        \"description\": \"\"\n      }\n    },\n    {\n      \"column\": \"Accuracy\",\n      \"properties\": {\n        \"dtype\": \"date\",\n        \"min\": 0.7350000143051147,\n        \"max\": 0.7350000143051147,\n        \"num_unique_values\": 1,\n        \"samples\": [\n          0.7350000143051147\n        ],\n        \"semantic_type\": \"\",\n        \"description\": \"\"\n      }\n    },\n    {\n      \"column\": \"Other Metrics\",\n      \"properties\": {\n        \"dtype\": \"object\",\n        \"semantic_type\": \"\",\n        \"description\": \"\"\n      }\n    },\n    {\n      \"column\": \"Parameters\",\n      \"properties\": {\n        \"dtype\": \"object\",\n        \"semantic_type\": \"\",\n        \"description\": \"\"\n      }\n    }\n  ]\n}"
            }
          },
          "metadata": {},
          "execution_count": 86
        }
      ]
    },
    {
      "cell_type": "code",
      "source": [
        "lstm_model.save(\"model_lstm_74.h5\")"
      ],
      "metadata": {
        "colab": {
          "base_uri": "https://localhost:8080/"
        },
        "id": "mbZK3ZZDiKNM",
        "outputId": "cf47daf1-356b-4c76-d713-7109bde3c90f"
      },
      "execution_count": 88,
      "outputs": [
        {
          "output_type": "stream",
          "name": "stderr",
          "text": [
            "/usr/local/lib/python3.10/dist-packages/keras/src/engine/training.py:3103: UserWarning: You are saving your model as an HDF5 file via `model.save()`. This file format is considered legacy. We recommend using instead the native Keras format, e.g. `model.save('my_model.keras')`.\n",
            "  saving_api.save_model(\n"
          ]
        }
      ]
    },
    {
      "cell_type": "markdown",
      "source": [
        "|level\\_0|index|Parameters|Accuracy|Other Metrics|\n",
        "|---|---|---|---|---|\n",
        "|0|LSTM with Single Embedding layer|\\{'units': 256, 'dropout': 0\\.5, 'recurrent\\_dropout': 0\\.2\\}|0\\.735|\\{'F1 Score': 0\\.73, 'Recall': 0\\.73, 'Precision': 0\\.73\\}|\n",
        "|1|LSTM with Bidirectional layer|\\{'units': 256, 'dropout': 0\\.2, 'recurrent\\_dropout': 0\\.2\\}|0\\.7300000190734863|\\{'F1 Score': 0\\.73, 'Recall': 0\\.73, 'Precision': 0\\.73\\}|\n",
        "|2|LSTM without attention|\\{'units': 256, 'dropout': 0\\.2, 'recurrent\\_dropout': 0\\.2\\}|0\\.7099999785423279|\\{'F1 Score': 0\\.73, 'Recall': 0\\.73, 'Precision': 0\\.73\\}|\n",
        "|3|LSTM without attention and optimizer as adadelta|\\{'units': 256, 'dropout': 0\\.2, 'recurrent\\_dropout': 0\\.2\\}|0\\.5149999856948853|\\{'F1 Score': 0\\.73, 'Recall': 0\\.73, 'Precision': 0\\.73\\}|\n",
        "|4|LSTM without attention and optimizer as rmsprop|\\{'units': 256, 'dropout': 0\\.2, 'recurrent\\_dropout': 0\\.2\\}|0\\.7099999785423279|\\{'F1 Score': 0\\.71, 'Recall': 0\\.71, 'Precision': 0\\.72\\}|"
      ],
      "metadata": {
        "id": "5j89RNVzuelG"
      }
    },
    {
      "cell_type": "markdown",
      "source": [
        "|level\\_0|index|Accuracy|Other Metrics|Parameters|\n",
        "|---|---|---|---|---|\n",
        "|0|LSTM without attention with adam optimizer|0\\.7350000143051147|\\{'F1 Score': 0\\.73, 'Recall': 0\\.74, 'Precision': 0\\.74\\}|\\{'units': 256, 'dropout': 0\\.2, 'recurrent\\_dropout': 0\\.2\\}|"
      ],
      "metadata": {
        "id": "juqAPfv5xmgG"
      }
    },
    {
      "cell_type": "code",
      "source": [
        "\n",
        "\n",
        "model_path = r'/content/model_lstm_74.h5'\n",
        "tokenizer_path = r'/content/tokenizer.pkl'\n",
        "\n",
        "def load_keras_model(model_path):\n",
        "    \"\"\"Load the Keras model from the specified path.\"\"\"\n",
        "    try:\n",
        "        model = load_model(model_path)\n",
        "        print(\"Model loaded successfully.\")\n",
        "        return model\n",
        "    except Exception as e:\n",
        "        print(f\"An error occurred while loading the model: {e}\")\n",
        "        sys.exit(1)\n",
        "\n",
        "def load_tokenizer(tokenizer_path):\n",
        "    \"\"\"Load the tokenizer used during model training.\"\"\"\n",
        "    try:\n",
        "        with open(tokenizer_path, 'rb') as handle:\n",
        "            tokenizer = pickle.load(handle)\n",
        "        # print(\"Tokenizer loaded successfully.\")\n",
        "        return tokenizer\n",
        "    except Exception as e:\n",
        "        print(f\"An error occurred while loading the tokenizer: {e}\")\n",
        "        sys.exit(1)\n",
        "\n",
        "def prepare_text(text, tokenizer, max_len=100):\n",
        "    \"\"\"Convert text to padded sequence.\"\"\"\n",
        "    sequences = tokenizer.texts_to_sequences([text])\n",
        "    padded_sequence = pad_sequences(sequences, maxlen=max_len)\n",
        "    return padded_sequence\n",
        "def build_model():\n",
        "    # Define LSTM model\n",
        "    lstm_model = Sequential()\n",
        "    lstm_model.add(Embedding(1500, 256,input_length = 100))\n",
        "    lstm_model.add(LSTM(units=196, dropout=0.2,return_sequences=True))\n",
        "    lstm_model.add(Bidirectional(LSTM(units=128,recurrent_dropout=0.2)))\n",
        "    # lstm_model.add(Attention())  # Add the custom attention layer after LSTM\n",
        "    lstm_model.add(Dense(64, activation='relu'))\n",
        "    lstm_model.add(Dense(1, activation='sigmoid'))\n",
        "\n",
        "    return lstm_model\n",
        "\n",
        "def predict_sentiment(model, text, tokenizer):\n",
        "    \"\"\"Predict sentiment from text using the loaded model and tokenizer.\"\"\"\n",
        "    processed_text = prepare_text(text, tokenizer)\n",
        "    prediction = model.predict(processed_text)\n",
        "    if prediction > 0.5:\n",
        "        return 'Positive'\n",
        "    else:\n",
        "        return 'Negative'\n",
        "\n",
        "text_to_evaluate = input(\"Enter Review:  \")\n",
        "model = build_model()\n",
        "model.load_weights(model_path)\n",
        "tokenizer = load_tokenizer(tokenizer_path)\n",
        "\n",
        "# Perform prediction\n",
        "sentiment = predict_sentiment(model, text_to_evaluate, tokenizer)\n",
        "print(f\"Predicted sentiment: {sentiment}\")\n",
        "\n",
        "# if __name__ == \"__main__\":\n",
        "#     if len(sys.argv) != 2:\n",
        "#         print(\"Usage: python test_model.py <model_path> <tokenizer_path> <text_to_evaluate>\")\n",
        "#         sys.exit(1)\n",
        "\n",
        "#     #model_path = sys.argv[1]\n",
        "#     #tokenizer_path = sys.argv[2]\n",
        "#     text_to_evaluate = sys.argv[1]\n",
        "\n",
        "#     # Load the model and tokenizer\n",
        "#     # model = load_keras_model(model_path)\n",
        "\n"
      ],
      "metadata": {
        "colab": {
          "base_uri": "https://localhost:8080/"
        },
        "id": "7txGYIURxm-T",
        "outputId": "2dca115d-80d2-431b-f3ef-d49f6573f186"
      },
      "execution_count": 107,
      "outputs": [
        {
          "output_type": "stream",
          "name": "stdout",
          "text": [
            "Enter Review:  Incredible vegan options that even meat lovers would crave. The service was attentive without being intrusive. The desserts were to die for—highly recommend the chocolate lava cake!\n",
            "1/1 [==============================] - 1s 1s/step\n",
            "Predicted sentiment: Positive\n"
          ]
        }
      ]
    },
    {
      "cell_type": "code",
      "source": [],
      "metadata": {
        "id": "fO-gMUPA2619"
      },
      "execution_count": null,
      "outputs": []
    }
  ],
  "metadata": {
    "colab": {
      "provenance": [],
      "gpuType": "T4",
      "include_colab_link": true
    },
    "kernelspec": {
      "display_name": "Python 3",
      "name": "python3"
    },
    "language_info": {
      "name": "python"
    },
    "accelerator": "GPU"
  },
  "nbformat": 4,
  "nbformat_minor": 0
}