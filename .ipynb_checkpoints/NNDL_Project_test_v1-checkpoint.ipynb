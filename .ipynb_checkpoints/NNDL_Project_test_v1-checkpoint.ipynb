{
  "cells": [
    {
      "cell_type": "markdown",
      "metadata": {
        "id": "view-in-github",
        "colab_type": "text"
      },
      "source": [
        "<a href=\"https://colab.research.google.com/github/kvamsi7/mscs/blob/mscs_nn_prj/CS5720-Neural%20Network%20and%20Deep%20Learning/NN_Final_Project/NNDL_Project_test_v1.ipynb\" target=\"_parent\"><img src=\"https://colab.research.google.com/assets/colab-badge.svg\" alt=\"Open In Colab\"/></a>"
      ]
    },
    {
      "cell_type": "code",
      "execution_count": 16,
      "metadata": {
        "colab": {
          "base_uri": "https://localhost:8080/",
          "height": 73
        },
        "id": "6ptLZDNpo2Fk",
        "outputId": "7ef4f161-f3c9-4ce5-d49e-b82a437c5ad2"
      },
      "outputs": [
        {
          "output_type": "display_data",
          "data": {
            "text/plain": [
              "<IPython.core.display.HTML object>"
            ],
            "text/html": [
              "\n",
              "     <input type=\"file\" id=\"files-1f8063ad-2461-492c-8774-52e04d871ee3\" name=\"files[]\" multiple disabled\n",
              "        style=\"border:none\" />\n",
              "     <output id=\"result-1f8063ad-2461-492c-8774-52e04d871ee3\">\n",
              "      Upload widget is only available when the cell has been executed in the\n",
              "      current browser session. Please rerun this cell to enable.\n",
              "      </output>\n",
              "      <script>// Copyright 2017 Google LLC\n",
              "//\n",
              "// Licensed under the Apache License, Version 2.0 (the \"License\");\n",
              "// you may not use this file except in compliance with the License.\n",
              "// You may obtain a copy of the License at\n",
              "//\n",
              "//      http://www.apache.org/licenses/LICENSE-2.0\n",
              "//\n",
              "// Unless required by applicable law or agreed to in writing, software\n",
              "// distributed under the License is distributed on an \"AS IS\" BASIS,\n",
              "// WITHOUT WARRANTIES OR CONDITIONS OF ANY KIND, either express or implied.\n",
              "// See the License for the specific language governing permissions and\n",
              "// limitations under the License.\n",
              "\n",
              "/**\n",
              " * @fileoverview Helpers for google.colab Python module.\n",
              " */\n",
              "(function(scope) {\n",
              "function span(text, styleAttributes = {}) {\n",
              "  const element = document.createElement('span');\n",
              "  element.textContent = text;\n",
              "  for (const key of Object.keys(styleAttributes)) {\n",
              "    element.style[key] = styleAttributes[key];\n",
              "  }\n",
              "  return element;\n",
              "}\n",
              "\n",
              "// Max number of bytes which will be uploaded at a time.\n",
              "const MAX_PAYLOAD_SIZE = 100 * 1024;\n",
              "\n",
              "function _uploadFiles(inputId, outputId) {\n",
              "  const steps = uploadFilesStep(inputId, outputId);\n",
              "  const outputElement = document.getElementById(outputId);\n",
              "  // Cache steps on the outputElement to make it available for the next call\n",
              "  // to uploadFilesContinue from Python.\n",
              "  outputElement.steps = steps;\n",
              "\n",
              "  return _uploadFilesContinue(outputId);\n",
              "}\n",
              "\n",
              "// This is roughly an async generator (not supported in the browser yet),\n",
              "// where there are multiple asynchronous steps and the Python side is going\n",
              "// to poll for completion of each step.\n",
              "// This uses a Promise to block the python side on completion of each step,\n",
              "// then passes the result of the previous step as the input to the next step.\n",
              "function _uploadFilesContinue(outputId) {\n",
              "  const outputElement = document.getElementById(outputId);\n",
              "  const steps = outputElement.steps;\n",
              "\n",
              "  const next = steps.next(outputElement.lastPromiseValue);\n",
              "  return Promise.resolve(next.value.promise).then((value) => {\n",
              "    // Cache the last promise value to make it available to the next\n",
              "    // step of the generator.\n",
              "    outputElement.lastPromiseValue = value;\n",
              "    return next.value.response;\n",
              "  });\n",
              "}\n",
              "\n",
              "/**\n",
              " * Generator function which is called between each async step of the upload\n",
              " * process.\n",
              " * @param {string} inputId Element ID of the input file picker element.\n",
              " * @param {string} outputId Element ID of the output display.\n",
              " * @return {!Iterable<!Object>} Iterable of next steps.\n",
              " */\n",
              "function* uploadFilesStep(inputId, outputId) {\n",
              "  const inputElement = document.getElementById(inputId);\n",
              "  inputElement.disabled = false;\n",
              "\n",
              "  const outputElement = document.getElementById(outputId);\n",
              "  outputElement.innerHTML = '';\n",
              "\n",
              "  const pickedPromise = new Promise((resolve) => {\n",
              "    inputElement.addEventListener('change', (e) => {\n",
              "      resolve(e.target.files);\n",
              "    });\n",
              "  });\n",
              "\n",
              "  const cancel = document.createElement('button');\n",
              "  inputElement.parentElement.appendChild(cancel);\n",
              "  cancel.textContent = 'Cancel upload';\n",
              "  const cancelPromise = new Promise((resolve) => {\n",
              "    cancel.onclick = () => {\n",
              "      resolve(null);\n",
              "    };\n",
              "  });\n",
              "\n",
              "  // Wait for the user to pick the files.\n",
              "  const files = yield {\n",
              "    promise: Promise.race([pickedPromise, cancelPromise]),\n",
              "    response: {\n",
              "      action: 'starting',\n",
              "    }\n",
              "  };\n",
              "\n",
              "  cancel.remove();\n",
              "\n",
              "  // Disable the input element since further picks are not allowed.\n",
              "  inputElement.disabled = true;\n",
              "\n",
              "  if (!files) {\n",
              "    return {\n",
              "      response: {\n",
              "        action: 'complete',\n",
              "      }\n",
              "    };\n",
              "  }\n",
              "\n",
              "  for (const file of files) {\n",
              "    const li = document.createElement('li');\n",
              "    li.append(span(file.name, {fontWeight: 'bold'}));\n",
              "    li.append(span(\n",
              "        `(${file.type || 'n/a'}) - ${file.size} bytes, ` +\n",
              "        `last modified: ${\n",
              "            file.lastModifiedDate ? file.lastModifiedDate.toLocaleDateString() :\n",
              "                                    'n/a'} - `));\n",
              "    const percent = span('0% done');\n",
              "    li.appendChild(percent);\n",
              "\n",
              "    outputElement.appendChild(li);\n",
              "\n",
              "    const fileDataPromise = new Promise((resolve) => {\n",
              "      const reader = new FileReader();\n",
              "      reader.onload = (e) => {\n",
              "        resolve(e.target.result);\n",
              "      };\n",
              "      reader.readAsArrayBuffer(file);\n",
              "    });\n",
              "    // Wait for the data to be ready.\n",
              "    let fileData = yield {\n",
              "      promise: fileDataPromise,\n",
              "      response: {\n",
              "        action: 'continue',\n",
              "      }\n",
              "    };\n",
              "\n",
              "    // Use a chunked sending to avoid message size limits. See b/62115660.\n",
              "    let position = 0;\n",
              "    do {\n",
              "      const length = Math.min(fileData.byteLength - position, MAX_PAYLOAD_SIZE);\n",
              "      const chunk = new Uint8Array(fileData, position, length);\n",
              "      position += length;\n",
              "\n",
              "      const base64 = btoa(String.fromCharCode.apply(null, chunk));\n",
              "      yield {\n",
              "        response: {\n",
              "          action: 'append',\n",
              "          file: file.name,\n",
              "          data: base64,\n",
              "        },\n",
              "      };\n",
              "\n",
              "      let percentDone = fileData.byteLength === 0 ?\n",
              "          100 :\n",
              "          Math.round((position / fileData.byteLength) * 100);\n",
              "      percent.textContent = `${percentDone}% done`;\n",
              "\n",
              "    } while (position < fileData.byteLength);\n",
              "  }\n",
              "\n",
              "  // All done.\n",
              "  yield {\n",
              "    response: {\n",
              "      action: 'complete',\n",
              "    }\n",
              "  };\n",
              "}\n",
              "\n",
              "scope.google = scope.google || {};\n",
              "scope.google.colab = scope.google.colab || {};\n",
              "scope.google.colab._files = {\n",
              "  _uploadFiles,\n",
              "  _uploadFilesContinue,\n",
              "};\n",
              "})(self);\n",
              "</script> "
            ]
          },
          "metadata": {}
        },
        {
          "output_type": "stream",
          "name": "stdout",
          "text": [
            "Saving Restaurant_Reviews.tsv to Restaurant_Reviews.tsv\n"
          ]
        }
      ],
      "source": [
        "from google.colab import files\n",
        "uploaded = files.upload()"
      ]
    },
    {
      "cell_type": "code",
      "source": [
        "import numpy as np\n",
        "import pandas as pd\n",
        "import re\n",
        "import nltk\n",
        "import seaborn as sns\n",
        "from nltk.corpus import stopwords\n",
        "from sklearn.model_selection import train_test_split\n",
        "from sklearn.metrics import accuracy_score, confusion_matrix\n",
        "from sklearn.feature_extraction.text import CountVectorizer\n",
        "from sklearn.preprocessing import LabelEncoder\n",
        "from keras.models import Sequential\n",
        "from keras.callbacks import EarlyStopping\n",
        "from keras.layers import Dense, Embedding, LSTM, Flatten,Bidirectional\n",
        "from tensorflow.keras.preprocessing.sequence import pad_sequences\n",
        "from tensorflow.keras.preprocessing.text import Tokenizer\n",
        "from sklearn.metrics import confusion_matrix,classification_report\n",
        "import seaborn as sns\n",
        "import matplotlib.pyplot as plt\n",
        "import pickle"
      ],
      "metadata": {
        "id": "XBfs25hidjRe"
      },
      "execution_count": 5,
      "outputs": []
    },
    {
      "cell_type": "code",
      "source": [
        "nltk.download('stopwords')"
      ],
      "metadata": {
        "colab": {
          "base_uri": "https://localhost:8080/"
        },
        "id": "YFaO26R5dm92",
        "outputId": "8c75fd3f-3815-4ff6-a1ec-99db6440fbb3"
      },
      "execution_count": 17,
      "outputs": [
        {
          "output_type": "stream",
          "name": "stderr",
          "text": [
            "[nltk_data] Downloading package stopwords to /root/nltk_data...\n",
            "[nltk_data]   Unzipping corpora/stopwords.zip.\n"
          ]
        },
        {
          "output_type": "execute_result",
          "data": {
            "text/plain": [
              "True"
            ]
          },
          "metadata": {},
          "execution_count": 17
        }
      ]
    },
    {
      "cell_type": "code",
      "source": [
        "# Load dataset\n",
        "dataset = pd.read_csv('Restaurant_Reviews.tsv', delimiter='\\t', quoting=3)\n"
      ],
      "metadata": {
        "id": "FL2Kk-BadqxF"
      },
      "execution_count": 18,
      "outputs": []
    },
    {
      "cell_type": "code",
      "source": [
        "# Preprocess the text data\n",
        "\n",
        "def pre_processing_text(data):\n",
        "  corpus = []\n",
        "  for i in range(len(data)):\n",
        "      review = re.sub('[^a-zA-Z]', ' ', data[i])\n",
        "      review = review.lower().split()\n",
        "      review = [word for word in review if word not in set(stopwords.words('english'))]\n",
        "      review = ' '.join(review)\n",
        "      corpus.append(review)\n",
        "  return corpus\n",
        "\n",
        "corpus = pre_processing_text(dataset['Review'])\n",
        "# Convert labels to binary\n",
        "label_encoder = LabelEncoder()\n",
        "y = label_encoder.fit_transform(dataset['Liked'])\n",
        "\n",
        "# # Transform text data to numerical vectors\n",
        "# cv = CountVectorizer(max_features=1500)\n",
        "# X = cv.fit_transform(corpus).toarray()"
      ],
      "metadata": {
        "id": "0UnBFCxXdtFi"
      },
      "execution_count": 19,
      "outputs": []
    },
    {
      "cell_type": "code",
      "source": [
        "max_features = 1500\n",
        "max_len = 100\n",
        "tokenizer = Tokenizer(num_words=max_features, split=' ')\n",
        "tokenizer.fit_on_texts(corpus)\n",
        "X = tokenizer.texts_to_sequences(corpus)\n",
        "\n",
        "X = pad_sequences(X,maxlen=max_len)"
      ],
      "metadata": {
        "id": "7G-hr-B6qz51"
      },
      "execution_count": 20,
      "outputs": []
    },
    {
      "cell_type": "code",
      "source": [
        "# saving tokenizer\n",
        "import pickle\n",
        "tokenizer_path = 'tokenizer.pkl'\n",
        "pickle.dump(tokenizer,open(tokenizer_path,'wb'))"
      ],
      "metadata": {
        "id": "WRWGyh_5mjCa"
      },
      "execution_count": 53,
      "outputs": []
    },
    {
      "cell_type": "code",
      "source": [
        "# Split the dataset into training and testing sets\n",
        "X_train, X_test, y_train, y_test = train_test_split(X, y, test_size=0.2, random_state=0)\n",
        "\n",
        "# # Reshape input data for LSTM\n",
        "# X_train_lstm = np.reshape(X_train, (X_train.shape[0], 1, X_train.shape[1]))\n",
        "# X_test_lstm = np.reshape(X_test, (X_test.shape[0], 1, X_test.shape[1]))"
      ],
      "metadata": {
        "id": "CtVjHXO0d5Vj"
      },
      "execution_count": 21,
      "outputs": []
    },
    {
      "cell_type": "code",
      "source": [
        "from keras.layers import Layer\n",
        "import keras.backend as K\n",
        "\n",
        "class Attention(Layer):\n",
        "    def __init__(self, **kwargs):\n",
        "        super(Attention, self).__init__(**kwargs)\n",
        "\n",
        "    def build(self, input_shape):\n",
        "        self.W = self.add_weight(name=\"att_weight\", shape=(input_shape[-1], 1),\n",
        "                                 initializer=\"normal\")\n",
        "        self.b = self.add_weight(name=\"att_bias\", shape=(input_shape[1], 1),\n",
        "                                 initializer=\"zeros\")\n",
        "        super(Attention, self).build(input_shape)\n",
        "\n",
        "    def call(self, x):\n",
        "        e = K.tanh(K.dot(x, self.W) + self.b)\n",
        "        a = K.softmax(e, axis=1)\n",
        "        output = x * a\n",
        "        return K.sum(output, axis=1)\n",
        "\n",
        "    def compute_output_shape(self, input_shape):\n",
        "        return (input_shape[0], input_shape[-1])"
      ],
      "metadata": {
        "id": "BwID7rpaoJkG"
      },
      "execution_count": 30,
      "outputs": []
    },
    {
      "cell_type": "code",
      "source": [
        "# Define LSTM model\n",
        "lstm_model = Sequential()\n",
        "lstm_model.add(Embedding(max_features, 256,input_length = max_len))\n",
        "lstm_model.add(LSTM(units=196, dropout=0.2,return_sequences=True))\n",
        "lstm_model.add(Bidirectional(LSTM(units=128,recurrent_dropout=0.2)))\n",
        "# lstm_model.add(Attention())  # Add the custom attention layer after LSTM\n",
        "lstm_model.add(Flatten())\n",
        "lstm_model.add(Dense(64, activation='relu'))\n",
        "lstm_model.add(Dense(1, activation='sigmoid'))\n",
        "lstm_model.compile(optimizer='adam', loss='binary_crossentropy', metrics=['accuracy'])"
      ],
      "metadata": {
        "id": "7iHf2cB6d7Nc"
      },
      "execution_count": 27,
      "outputs": []
    },
    {
      "cell_type": "code",
      "source": [
        "\n",
        "# callback\n",
        "callback = EarlyStopping(monitor='loss',patience=5)\n",
        "# Train LSTM model\n",
        "history = lstm_model.fit(X_train, y_train,validation_data=(X_test, y_test), epochs=25, batch_size=32, callbacks = [callback],verbose=2)\n"
      ],
      "metadata": {
        "colab": {
          "base_uri": "https://localhost:8080/"
        },
        "id": "9DxwCnOHd9jM",
        "outputId": "f8f411a0-6d85-4a14-ccf3-dcbbdde34826"
      },
      "execution_count": 28,
      "outputs": [
        {
          "output_type": "stream",
          "name": "stdout",
          "text": [
            "Epoch 1/25\n",
            "25/25 - 32s - loss: 0.6961 - accuracy: 0.5000 - val_loss: 0.6917 - val_accuracy: 0.5950 - 32s/epoch - 1s/step\n",
            "Epoch 2/25\n",
            "25/25 - 24s - loss: 0.6562 - accuracy: 0.6650 - val_loss: 0.6007 - val_accuracy: 0.6550 - 24s/epoch - 945ms/step\n",
            "Epoch 3/25\n",
            "25/25 - 24s - loss: 0.3176 - accuracy: 0.8550 - val_loss: 0.5708 - val_accuracy: 0.7350 - 24s/epoch - 947ms/step\n",
            "Epoch 4/25\n",
            "25/25 - 23s - loss: 0.1584 - accuracy: 0.9337 - val_loss: 0.7266 - val_accuracy: 0.7400 - 23s/epoch - 933ms/step\n",
            "Epoch 5/25\n",
            "25/25 - 24s - loss: 0.1023 - accuracy: 0.9625 - val_loss: 0.8323 - val_accuracy: 0.7400 - 24s/epoch - 945ms/step\n",
            "Epoch 6/25\n",
            "25/25 - 23s - loss: 0.0764 - accuracy: 0.9750 - val_loss: 0.9281 - val_accuracy: 0.7150 - 23s/epoch - 911ms/step\n",
            "Epoch 7/25\n",
            "25/25 - 24s - loss: 0.0663 - accuracy: 0.9725 - val_loss: 1.1042 - val_accuracy: 0.7600 - 24s/epoch - 945ms/step\n",
            "Epoch 8/25\n",
            "25/25 - 24s - loss: 0.0423 - accuracy: 0.9862 - val_loss: 1.1222 - val_accuracy: 0.7350 - 24s/epoch - 949ms/step\n",
            "Epoch 9/25\n",
            "25/25 - 24s - loss: 0.0309 - accuracy: 0.9875 - val_loss: 1.1349 - val_accuracy: 0.7400 - 24s/epoch - 959ms/step\n",
            "Epoch 10/25\n",
            "25/25 - 23s - loss: 0.0413 - accuracy: 0.9837 - val_loss: 1.0570 - val_accuracy: 0.7400 - 23s/epoch - 936ms/step\n",
            "Epoch 11/25\n",
            "25/25 - 22s - loss: 0.0235 - accuracy: 0.9900 - val_loss: 1.1924 - val_accuracy: 0.7450 - 22s/epoch - 892ms/step\n",
            "Epoch 12/25\n",
            "25/25 - 24s - loss: 0.0253 - accuracy: 0.9875 - val_loss: 1.2116 - val_accuracy: 0.7350 - 24s/epoch - 963ms/step\n",
            "Epoch 13/25\n",
            "25/25 - 24s - loss: 0.0263 - accuracy: 0.9887 - val_loss: 1.3466 - val_accuracy: 0.7300 - 24s/epoch - 951ms/step\n",
            "Epoch 14/25\n",
            "25/25 - 24s - loss: 0.0258 - accuracy: 0.9900 - val_loss: 1.2790 - val_accuracy: 0.7350 - 24s/epoch - 951ms/step\n",
            "Epoch 15/25\n",
            "25/25 - 24s - loss: 0.0242 - accuracy: 0.9887 - val_loss: 1.2792 - val_accuracy: 0.7350 - 24s/epoch - 953ms/step\n",
            "Epoch 16/25\n",
            "25/25 - 24s - loss: 0.0213 - accuracy: 0.9900 - val_loss: 1.3448 - val_accuracy: 0.7250 - 24s/epoch - 964ms/step\n",
            "Epoch 17/25\n",
            "25/25 - 23s - loss: 0.0250 - accuracy: 0.9900 - val_loss: 1.2818 - val_accuracy: 0.7250 - 23s/epoch - 901ms/step\n",
            "Epoch 18/25\n",
            "25/25 - 24s - loss: 0.0197 - accuracy: 0.9887 - val_loss: 1.2801 - val_accuracy: 0.7250 - 24s/epoch - 952ms/step\n",
            "Epoch 19/25\n",
            "25/25 - 24s - loss: 0.0225 - accuracy: 0.9887 - val_loss: 1.3915 - val_accuracy: 0.7400 - 24s/epoch - 958ms/step\n",
            "Epoch 20/25\n",
            "25/25 - 24s - loss: 0.0250 - accuracy: 0.9900 - val_loss: 1.2889 - val_accuracy: 0.7450 - 24s/epoch - 953ms/step\n",
            "Epoch 21/25\n",
            "25/25 - 24s - loss: 0.0232 - accuracy: 0.9875 - val_loss: 1.3249 - val_accuracy: 0.7450 - 24s/epoch - 947ms/step\n",
            "Epoch 22/25\n",
            "25/25 - 24s - loss: 0.0178 - accuracy: 0.9937 - val_loss: 1.3161 - val_accuracy: 0.7550 - 24s/epoch - 963ms/step\n",
            "Epoch 23/25\n",
            "25/25 - 22s - loss: 0.0147 - accuracy: 0.9937 - val_loss: 1.5123 - val_accuracy: 0.7450 - 22s/epoch - 899ms/step\n",
            "Epoch 24/25\n",
            "25/25 - 25s - loss: 0.0206 - accuracy: 0.9900 - val_loss: 1.4349 - val_accuracy: 0.7450 - 25s/epoch - 997ms/step\n",
            "Epoch 25/25\n",
            "25/25 - 24s - loss: 0.0182 - accuracy: 0.9900 - val_loss: 1.3774 - val_accuracy: 0.7450 - 24s/epoch - 959ms/step\n"
          ]
        }
      ]
    },
    {
      "cell_type": "code",
      "source": [
        "\n",
        "# Evaluate LSTM model\n",
        "lstm_loss, lstm_accuracy = lstm_model.evaluate(X_test, y_test)\n",
        "print(\"LSTM Test Accuracy:\", lstm_accuracy)\n"
      ],
      "metadata": {
        "colab": {
          "base_uri": "https://localhost:8080/"
        },
        "id": "PbFcPutZeBB5",
        "outputId": "c1322b6a-676d-480f-9503-165388300be0"
      },
      "execution_count": 29,
      "outputs": [
        {
          "output_type": "stream",
          "name": "stdout",
          "text": [
            "7/7 [==============================] - 1s 175ms/step - loss: 1.3774 - accuracy: 0.7450\n",
            "LSTM Test Accuracy: 0.7450000047683716\n"
          ]
        }
      ]
    },
    {
      "cell_type": "code",
      "source": [
        "print(history.history.keys())\n",
        "# summarize history for accuracy\n",
        "plt.plot(history.history['accuracy'])\n",
        "plt.plot(history.history['val_accuracy'])\n",
        "plt.title('model accuracy')\n",
        "plt.ylabel('accuracy')\n",
        "plt.xlabel('epoch')\n",
        "plt.legend(['train', 'test'], loc='upper left')\n",
        "plt.show()\n",
        "# summarize history for loss\n",
        "plt.plot(history.history['loss'])\n",
        "plt.plot(history.history['val_loss'])\n",
        "plt.title('model loss')\n",
        "plt.ylabel('loss')\n",
        "plt.xlabel('epoch')\n",
        "plt.legend(['train', 'test'], loc='upper left')\n",
        "plt.show()"
      ],
      "metadata": {
        "id": "6aNq1-4oO5Pr",
        "outputId": "56edf485-da1a-43b7-c9f5-e0e89b2426b8",
        "colab": {
          "base_uri": "https://localhost:8080/",
          "height": 944
        }
      },
      "execution_count": 30,
      "outputs": [
        {
          "output_type": "stream",
          "name": "stdout",
          "text": [
            "dict_keys(['loss', 'accuracy', 'val_loss', 'val_accuracy'])\n"
          ]
        },
        {
          "output_type": "display_data",
          "data": {
            "text/plain": [
              "<Figure size 640x480 with 1 Axes>"
            ],
            "image/png": "[encoded data removed]"
          },
          "metadata": {}
        },
        {
          "output_type": "display_data",
          "data": {
            "text/plain": [
              "<Figure size 640x480 with 1 Axes>"
            ],
            "image/png": "[encoded data removed]"
          },
          "metadata": {}
        }
      ]
    },
    {
      "cell_type": "code",
      "source": [
        "# Predict sentiment for a new review using both models\n",
        "input_text = ['Place is good but the food is worst']\n",
        "# input_vector = cv.transform(input_text).toarray()\n",
        "input_vector_test = tokenizer.texts_to_sequences(input_text)\n",
        "\n",
        "input_vector_seq = pad_sequences(input_vector_test,maxlen=max_len)\n",
        "\n",
        "# LSTM model prediction\n",
        "lstm_prediction = lstm_model.predict(input_vector_seq)[0][0]\n",
        "if lstm_prediction >= 0.5:\n",
        "    print('LSTM: Review is Positive')\n",
        "else:\n",
        "    print('LSTM: Review is Negative')"
      ],
      "metadata": {
        "colab": {
          "base_uri": "https://localhost:8080/"
        },
        "id": "jfqBx4Z90Q-7",
        "outputId": "609409ce-6062-4052-ec41-96d86c49a1c4"
      },
      "execution_count": 80,
      "outputs": [
        {
          "output_type": "stream",
          "name": "stdout",
          "text": [
            "1/1 [==============================] - 1s 934ms/step\n",
            "LSTM: Review is Negative\n"
          ]
        }
      ]
    },
    {
      "cell_type": "code",
      "source": [
        "y_pred = np.array([1 if y_p > 0.5 else 0 for y_p in lstm_model.predict(X_test)])"
      ],
      "metadata": {
        "colab": {
          "base_uri": "https://localhost:8080/"
        },
        "id": "fnoWvtjV4aQX",
        "outputId": "dd898096-df74-46bf-97b2-d1231de1cd62"
      },
      "execution_count": 32,
      "outputs": [
        {
          "output_type": "stream",
          "name": "stdout",
          "text": [
            "7/7 [==============================] - 3s 290ms/step\n"
          ]
        }
      ]
    },
    {
      "cell_type": "code",
      "source": [
        "cf_matrix = confusion_matrix(y_test,y_pred)\n",
        "group_names = ['True Neg','False Pos','False Neg','True Pos']\n",
        "group_counts = [\"{0:0.0f}\".format(value) for value in\n",
        "                cf_matrix.flatten()]\n",
        "group_percentages = [\"{0:.2%}\".format(value) for value in\n",
        "                     cf_matrix.flatten()/np.sum(cf_matrix)]\n",
        "labels = [f\"{v1}\\n{v2}\\n{v3}\" for v1, v2, v3 in\n",
        "          zip(group_names,group_counts,group_percentages)]\n",
        "labels = np.asarray(labels).reshape(2,2)\n",
        "sns.heatmap(cf_matrix, annot=labels, fmt=\"\", cmap='Blues')\n",
        "plt.show()"
      ],
      "metadata": {
        "colab": {
          "base_uri": "https://localhost:8080/",
          "height": 430
        },
        "id": "PgWBrz-bpq8d",
        "outputId": "c338f007-76bc-42da-8464-f86e1a6de698"
      },
      "execution_count": 33,
      "outputs": [
        {
          "output_type": "display_data",
          "data": {
            "text/plain": [
              "<Figure size 640x480 with 2 Axes>"
            ],
            "image/png": "[encoded data removed]"
          },
          "metadata": {}
        }
      ]
    },
    {
      "cell_type": "code",
      "source": [
        "print(classification_report(y_test,y_pred))"
      ],
      "metadata": {
        "colab": {
          "base_uri": "https://localhost:8080/"
        },
        "id": "Tfqz2owwp-rK",
        "outputId": "2f4bb389-4fdc-4f83-c4b3-162f4dc18fba"
      },
      "execution_count": 83,
      "outputs": [
        {
          "output_type": "stream",
          "name": "stdout",
          "text": [
            "              precision    recall  f1-score   support\n",
            "\n",
            "           0       0.70      0.80      0.75        97\n",
            "           1       0.78      0.67      0.72       103\n",
            "\n",
            "    accuracy                           0.73       200\n",
            "   macro avg       0.74      0.74      0.73       200\n",
            "weighted avg       0.74      0.73      0.73       200\n",
            "\n"
          ]
        }
      ]
    },
    {
      "cell_type": "code",
      "source": [
        "models_performance = {}\n",
        "def update_model_performance(dictionary, model_name, parameters, accuracy, other_metrics):\n",
        "    \"\"\"\n",
        "    Update the dictionary with model performance metrics.\n",
        "\n",
        "    Args:\n",
        "    dictionary (dict): The dictionary to update.\n",
        "    model_name (str): The name of the model.\n",
        "    parameters (dict): A dictionary of the model's parameters.\n",
        "    accuracy (float): The accuracy of the model on the test set.\n",
        "    other_metrics (dict): Other relevant metrics (like F1-score, precision, recall).\n",
        "\n",
        "    Returns:\n",
        "    None; updates the dictionary in place.\n",
        "    \"\"\"\n",
        "    if model_name in dictionary:\n",
        "        print(f\"Model {model_name} already exists in the dictionary. Updating the existing entry.\")\n",
        "    else:\n",
        "        print(f\"Adding new model {model_name} to the dictionary.\")\n",
        "\n",
        "    dictionary[model_name] = {\n",
        "        'Parameters': parameters,\n",
        "        'Accuracy': accuracy,\n",
        "        'Other Metrics': other_metrics\n",
        "    }\n"
      ],
      "metadata": {
        "id": "Ne5Iip-aqZuW"
      },
      "execution_count": 84,
      "outputs": []
    },
    {
      "cell_type": "code",
      "source": [
        "# Example usage:\n",
        "update_model_performance(models_performance, 'LSTM without attention with adam optimizer and flatten layer', {'units': 256, 'dropout': 0.2, 'recurrent_dropout': 0.2},lstm_accuracy, {'F1 Score': 0.73, 'Recall': 0.74, 'Precision': 0.74})"
      ],
      "metadata": {
        "colab": {
          "base_uri": "https://localhost:8080/"
        },
        "id": "Zf-TcnTALBtn",
        "outputId": "2e89a978-50ca-4d03-882a-76caf4e9c643"
      },
      "execution_count": 85,
      "outputs": [
        {
          "output_type": "stream",
          "name": "stdout",
          "text": [
            "Adding new model LSTM without attention with adam optimizer to the dictionary.\n"
          ]
        }
      ]
    },
    {
      "cell_type": "code",
      "source": [
        "pd.DataFrame(models_performance).T.reset_index()"
      ],
      "metadata": {
        "colab": {
          "base_uri": "https://localhost:8080/",
          "height": 334
        },
        "id": "YrVpS7p5iItA",
        "outputId": "22e3d830-582a-426e-aba2-bfd301d1220a"
      },
      "execution_count": 86,
      "outputs": [
        {
          "output_type": "execute_result",
          "data": {
            "text/plain": [
              "                                        index Accuracy  \\\n",
              "0  LSTM without attention with adam optimizer    0.735   \n",
              "\n",
              "                                       Other Metrics  \\\n",
              "0  {'F1 Score': 0.73, 'Recall': 0.74, 'Precision'...   \n",
              "\n",
              "                                          Parameters  \n",
              "0  {'units': 256, 'dropout': 0.2, 'recurrent_drop...  "
            ],
            "text/html": [
              "\n",
              "  <div id=\"df-b67374d8-f3f8-49cd-b24b-bf31e4c70f48\" class=\"colab-df-container\">\n",
              "    <div>\n",
              "<style scoped>\n",
              "    .dataframe tbody tr th:only-of-type {\n",
              "        vertical-align: middle;\n",
              "    }\n",
              "\n",
              "    .dataframe tbody tr th {\n",
              "        vertical-align: top;\n",
              "    }\n",
              "\n",
              "    .dataframe thead th {\n",
              "        text-align: right;\n",
              "    }\n",
              "</style>\n",
              "<table border=\"1\" class=\"dataframe\">\n",
              "  <thead>\n",
              "    <tr style=\"text-align: right;\">\n",
              "      <th></th>\n",
              "      <th>index</th>\n",
              "      <th>Accuracy</th>\n",
              "      <th>Other Metrics</th>\n",
              "      <th>Parameters</th>\n",
              "    </tr>\n",
              "  </thead>\n",
              "  <tbody>\n",
              "    <tr>\n",
              "      <th>0</th>\n",
              "      <td>LSTM without attention with adam optimizer</td>\n",
              "      <td>0.735</td>\n",
              "      <td>{'F1 Score': 0.73, 'Recall': 0.74, 'Precision'...</td>\n",
              "      <td>{'units': 256, 'dropout': 0.2, 'recurrent_drop...</td>\n",
              "    </tr>\n",
              "  </tbody>\n",
              "</table>\n",
              "</div>\n",
              "    <div class=\"colab-df-buttons\">\n",
              "\n",
              "  <div class=\"colab-df-container\">\n",
              "    <button class=\"colab-df-convert\" onclick=\"convertToInteractive('df-b67374d8-f3f8-49cd-b24b-bf31e4c70f48')\"\n",
              "            title=\"Convert this dataframe to an interactive table.\"\n",
              "            style=\"display:none;\">\n",
              "\n",
              "  <svg xmlns=\"http://www.w3.org/2000/svg\" height=\"24px\" viewBox=\"0 -960 960 960\">\n",
              "    <path d=\"M120-120v-720h720v720H120Zm60-500h600v-160H180v160Zm220 220h160v-160H400v160Zm0 220h160v-160H400v160ZM180-400h160v-160H180v160Zm440 0h160v-160H620v160ZM180-180h160v-160H180v160Zm440 0h160v-160H620v160Z\"/>\n",
              "  </svg>\n",
              "    </button>\n",
              "\n",
              "  <style>\n",
              "    .colab-df-container {\n",
              "      display:flex;\n",
              "      gap: 12px;\n",
              "    }\n",
              "\n",
              "    .colab-df-convert {\n",
              "      background-color: #E8F0FE;\n",
              "      border: none;\n",
              "      border-radius: 50%;\n",
              "      cursor: pointer;\n",
              "      display: none;\n",
              "      fill: #1967D2;\n",
              "      height: 32px;\n",
              "      padding: 0 0 0 0;\n",
              "      width: 32px;\n",
              "    }\n",
              "\n",
              "    .colab-df-convert:hover {\n",
              "      background-color: #E2EBFA;\n",
              "      box-shadow: 0px 1px 2px rgba(60, 64, 67, 0.3), 0px 1px 3px 1px rgba(60, 64, 67, 0.15);\n",
              "      fill: #174EA6;\n",
              "    }\n",
              "\n",
              "    .colab-df-buttons div {\n",
              "      margin-bottom: 4px;\n",
              "    }\n",
              "\n",
              "    [theme=dark] .colab-df-convert {\n",
              "      background-color: #3B4455;\n",
              "      fill: #D2E3FC;\n",
              "    }\n",
              "\n",
              "    [theme=dark] .colab-df-convert:hover {\n",
              "      background-color: #434B5C;\n",
              "      box-shadow: 0px 1px 3px 1px rgba(0, 0, 0, 0.15);\n",
              "      filter: drop-shadow(0px 1px 2px rgba(0, 0, 0, 0.3));\n",
              "      fill: #FFFFFF;\n",
              "    }\n",
              "  </style>\n",
              "\n",
              "    <script>\n",
              "      const buttonEl =\n",
              "        document.querySelector('#df-b67374d8-f3f8-49cd-b24b-bf31e4c70f48 button.colab-df-convert');\n",
              "      buttonEl.style.display =\n",
              "        google.colab.kernel.accessAllowed ? 'block' : 'none';\n",
              "\n",
              "      async function convertToInteractive(key) {\n",
              "        const element = document.querySelector('#df-b67374d8-f3f8-49cd-b24b-bf31e4c70f48');\n",
              "        const dataTable =\n",
              "          await google.colab.kernel.invokeFunction('convertToInteractive',\n",
              "                                                    [key], {});\n",
              "        if (!dataTable) return;\n",
              "\n",
              "        const docLinkHtml = 'Like what you see? Visit the ' +\n",
              "          '<a target=\"_blank\" href=https://colab.research.google.com/notebooks/data_table.ipynb>data table notebook</a>'\n",
              "          + ' to learn more about interactive tables.';\n",
              "        element.innerHTML = '';\n",
              "        dataTable['output_type'] = 'display_data';\n",
              "        await google.colab.output.renderOutput(dataTable, element);\n",
              "        const docLink = document.createElement('div');\n",
              "        docLink.innerHTML = docLinkHtml;\n",
              "        element.appendChild(docLink);\n",
              "      }\n",
              "    </script>\n",
              "  </div>\n",
              "\n",
              "\n",
              "    </div>\n",
              "  </div>\n"
            ],
            "application/vnd.google.colaboratory.intrinsic+json": {
              "type": "dataframe",
              "summary": "{\n  \"name\": \"pd\",\n  \"rows\": 1,\n  \"fields\": [\n    {\n      \"column\": \"index\",\n      \"properties\": {\n        \"dtype\": \"string\",\n        \"num_unique_values\": 1,\n        \"samples\": [\n          \"LSTM without attention with adam optimizer\"\n        ],\n        \"semantic_type\": \"\",\n        \"description\": \"\"\n      }\n    },\n    {\n      \"column\": \"Accuracy\",\n      \"properties\": {\n        \"dtype\": \"date\",\n        \"min\": 0.7350000143051147,\n        \"max\": 0.7350000143051147,\n        \"num_unique_values\": 1,\n        \"samples\": [\n          0.7350000143051147\n        ],\n        \"semantic_type\": \"\",\n        \"description\": \"\"\n      }\n    },\n    {\n      \"column\": \"Other Metrics\",\n      \"properties\": {\n        \"dtype\": \"object\",\n        \"semantic_type\": \"\",\n        \"description\": \"\"\n      }\n    },\n    {\n      \"column\": \"Parameters\",\n      \"properties\": {\n        \"dtype\": \"object\",\n        \"semantic_type\": \"\",\n        \"description\": \"\"\n      }\n    }\n  ]\n}"
            }
          },
          "metadata": {},
          "execution_count": 86
        }
      ]
    },
    {
      "cell_type": "code",
      "source": [
        "lstm_model.save(\"model_lstm_74.h5\")"
      ],
      "metadata": {
        "colab": {
          "base_uri": "https://localhost:8080/"
        },
        "id": "mbZK3ZZDiKNM",
        "outputId": "cf47daf1-356b-4c76-d713-7109bde3c90f"
      },
      "execution_count": 88,
      "outputs": [
        {
          "output_type": "stream",
          "name": "stderr",
          "text": [
            "/usr/local/lib/python3.10/dist-packages/keras/src/engine/training.py:3103: UserWarning: You are saving your model as an HDF5 file via `model.save()`. This file format is considered legacy. We recommend using instead the native Keras format, e.g. `model.save('my_model.keras')`.\n",
            "  saving_api.save_model(\n"
          ]
        }
      ]
    },
    {
      "cell_type": "markdown",
      "source": [
        "|level\\_0|Model Architecture|Parameters|Accuracy|Other Metrics|\n",
        "|---|---|---|---|---|\n",
        "|0|LSTM with Single Embedding layer|\\{'units': 256, 'dropout': 0\\.5, 'recurrent\\_dropout': 0\\.2\\}|0\\.735|\\{'F1 Score': 0\\.73, 'Recall': 0\\.73, 'Precision': 0\\.73\\}|\n",
        "|1|LSTM with Bidirectional layer and Attention|\\{'units': 256, 'dropout': 0\\.2, 'recurrent\\_dropout': 0\\.2\\}|0\\.7300000190734863|\\{'F1 Score': 0\\.73, 'Recall': 0\\.73, 'Precision': 0\\.73\\}|\n",
        "|2|LSTM without attention|\\{'units': 256, 'dropout': 0\\.2, 'recurrent\\_dropout': 0\\.2\\}|0\\.7099999785423279|\\{'F1 Score': 0\\.73, 'Recall': 0\\.73, 'Precision': 0\\.73\\}|\n",
        "|3|LSTM without attention and optimizer as adadelta|\\{'units': 256, 'dropout': 0\\.2, 'recurrent\\_dropout': 0\\.2\\}|0\\.5149999856948853|\\{'F1 Score': 0\\.73, 'Recall': 0\\.73, 'Precision': 0\\.73\\}|\n",
        "|4|LSTM without attention and optimizer as rmsprop|\\{'units': 256, 'dropout': 0\\.2, 'recurrent\\_dropout': 0\\.2\\}|0\\.7099999785423279|\\{'F1 Score': 0\\.71, 'Recall': 0\\.71, 'Precision': 0\\.72\\}|\n",
        "|5|LSTM without attention with adam optimizer|\\{'units': 256, 'dropout': 0\\.2, 'recurrent\\_dropout': 0\\.2\\}|0\\.7350000143051147|\\{'F1 Score': 0\\.73, 'Recall': 0\\.74, 'Precision': 0\\.74\\}|"
      ],
      "metadata": {
        "id": "5j89RNVzuelG"
      }
    },
    {
      "cell_type": "markdown",
      "source": [
        "|level\\_0|index|Accuracy|Other Metrics|Parameters|\n",
        "|---|---|---|---|---|\n",
        "|0|LSTM without attention with adam optimizer|0\\.7350000143051147|\\{'F1 Score': 0\\.73, 'Recall': 0\\.74, 'Precision': 0\\.74\\}|\\{'units': 256, 'dropout': 0\\.2, 'recurrent\\_dropout': 0\\.2\\}|"
      ],
      "metadata": {
        "id": "juqAPfv5xmgG"
      }
    },
    {
      "cell_type": "code",
      "source": [
        "\n",
        "\n",
        "model_path = r'/content/model_lstm_74.h5'\n",
        "tokenizer_path = r'/content/tokenizer.pkl'\n",
        "\n",
        "def load_keras_model(model_path):\n",
        "    \"\"\"Load the Keras model from the specified path.\"\"\"\n",
        "    try:\n",
        "        model = load_model(model_path)\n",
        "        print(\"Model loaded successfully.\")\n",
        "        return model\n",
        "    except Exception as e:\n",
        "        print(f\"An error occurred while loading the model: {e}\")\n",
        "        sys.exit(1)\n",
        "\n",
        "def load_tokenizer(tokenizer_path):\n",
        "    \"\"\"Load the tokenizer used during model training.\"\"\"\n",
        "    try:\n",
        "        with open(tokenizer_path, 'rb') as handle:\n",
        "            tokenizer = pickle.load(handle)\n",
        "        # print(\"Tokenizer loaded successfully.\")\n",
        "        return tokenizer\n",
        "    except Exception as e:\n",
        "        print(f\"An error occurred while loading the tokenizer: {e}\")\n",
        "        sys.exit(1)\n",
        "\n",
        "def prepare_text(text, tokenizer, max_len=100):\n",
        "    \"\"\"Convert text to padded sequence.\"\"\"\n",
        "    sequences = tokenizer.texts_to_sequences([text])\n",
        "    padded_sequence = pad_sequences(sequences, maxlen=max_len)\n",
        "    return padded_sequence\n",
        "def build_model():\n",
        "    # Define LSTM model\n",
        "    lstm_model = Sequential()\n",
        "    lstm_model.add(Embedding(1500, 256,input_length = 100))\n",
        "    lstm_model.add(LSTM(units=196, dropout=0.2,return_sequences=True))\n",
        "    lstm_model.add(Bidirectional(LSTM(units=128,recurrent_dropout=0.2)))\n",
        "    # lstm_model.add(Attention())  # Add the custom attention layer after LSTM\n",
        "    lstm_model.add(Dense(64, activation='relu'))\n",
        "    lstm_model.add(Dense(1, activation='sigmoid'))\n",
        "\n",
        "    return lstm_model\n",
        "\n",
        "def predict_sentiment(model, text, tokenizer):\n",
        "    \"\"\"Predict sentiment from text using the loaded model and tokenizer.\"\"\"\n",
        "    processed_text = prepare_text(text, tokenizer)\n",
        "    prediction = model.predict(processed_text)\n",
        "    if prediction > 0.5:\n",
        "        return 'Positive'\n",
        "    else:\n",
        "        return 'Negative'\n",
        "\n",
        "text_to_evaluate = input(\"Enter Review:  \")\n",
        "model = build_model()\n",
        "model.load_weights(model_path)\n",
        "tokenizer = load_tokenizer(tokenizer_path)\n",
        "\n",
        "# Perform prediction\n",
        "sentiment = predict_sentiment(model, text_to_evaluate, tokenizer)\n",
        "print(f\"Predicted sentiment: {sentiment}\")\n",
        "\n",
        "# if __name__ == \"__main__\":\n",
        "#     if len(sys.argv) != 2:\n",
        "#         print(\"Usage: python test_model.py <model_path> <tokenizer_path> <text_to_evaluate>\")\n",
        "#         sys.exit(1)\n",
        "\n",
        "#     #model_path = sys.argv[1]\n",
        "#     #tokenizer_path = sys.argv[2]\n",
        "#     text_to_evaluate = sys.argv[1]\n",
        "\n",
        "#     # Load the model and tokenizer\n",
        "#     # model = load_keras_model(model_path)\n",
        "\n"
      ],
      "metadata": {
        "colab": {
          "base_uri": "https://localhost:8080/"
        },
        "id": "7txGYIURxm-T",
        "outputId": "72276724-eb4f-4c6a-9503-4ee7406ff396"
      },
      "execution_count": 8,
      "outputs": [
        {
          "output_type": "stream",
          "name": "stdout",
          "text": [
            "Enter Review:  Had higher expectations based on the reviews. The burger was greasy and undercooked. The fries were soggy. The whole meal was a letdown.\n",
            "1/1 [==============================] - 1s 1s/step\n",
            "Predicted sentiment: Negative\n"
          ]
        }
      ]
    },
    {
      "cell_type": "code",
      "source": [
        "import matplotlib.pyplot as plt\n",
        "import numpy as np\n",
        "\n",
        "# Model names and performance metrics\n",
        "models = ['LSTM Single Layer', 'LSTM Bidirectional', 'LSTM No Attention', 'LSTM Adadelta', 'LSTM RMSprop', 'LSTM Adam']\n",
        "accuracy = [0.735, 0.730, 0.710, 0.515, 0.710, 0.735]\n",
        "f1_scores = [0.73, 0.73, 0.73, 0.73, 0.71, 0.73]\n",
        "\n",
        "x = np.arange(len(models))  # the label locations\n",
        "width = 0.35  # the width of the bars\n",
        "\n",
        "fig, ax = plt.subplots()\n",
        "rects1 = ax.bar(x - width/2, accuracy, width, label='Accuracy')\n",
        "rects2 = ax.bar(x + width/2, f1_scores, width, label='F1 Score')\n",
        "\n",
        "# Add some text for labels, title and custom x-axis tick labels, etc.\n",
        "ax.set_ylabel('Scores')\n",
        "ax.set_title('Model Performance Comparison')\n",
        "ax.set_xticks(x)\n",
        "ax.set_xticklabels(models, rotation=45)\n",
        "ax.legend()\n",
        "\n",
        "ax.bar_label(rects1, padding=3)\n",
        "ax.bar_label(rects2, padding=3)\n",
        "\n",
        "fig.tight_layout()\n",
        "\n",
        "plt.show()\n"
      ],
      "metadata": {
        "colab": {
          "base_uri": "https://localhost:8080/",
          "height": 504
        },
        "id": "fO-gMUPA2619",
        "outputId": "6a5c5c7c-2148-4612-a062-634d225efeb3"
      },
      "execution_count": 14,
      "outputs": [
        {
          "output_type": "display_data",
          "data": {
            "text/plain": [
              "<Figure size 2000x2000 with 0 Axes>"
            ]
          },
          "metadata": {}
        },
        {
          "output_type": "display_data",
          "data": {
            "text/plain": [
              "<Figure size 640x480 with 1 Axes>"
            ],
            "image/png": "[encoded data removed]"
          },
          "metadata": {}
        }
      ]
    },
    {
      "cell_type": "code",
      "source": [
        "import matplotlib.pyplot as plt\n",
        "\n",
        "# Example data for testing loss over epochs\n",
        "epochs = range(1, 11)\n",
        "test_loss = [0.63, 0.58, 0.56, 0.54, 0.53, 0.52, 0.51, 0.50, 0.49, 0.48]  # Hypothetical testing loss values\n",
        "\n",
        "plt.plot(epochs, test_loss, marker='o', linestyle='-', color='b', label='Testing Loss')\n",
        "plt.title('Testing Loss Over Epochs for LSTM with Adam Optimizer')\n",
        "plt.xlabel('Epochs')\n",
        "plt.ylabel('Loss')\n",
        "plt.legend()\n",
        "plt.grid(True)\n",
        "plt.show()\n"
      ],
      "metadata": {
        "id": "o6j7tBWvJaa-",
        "outputId": "7e9245bd-b627-406e-cc7d-7bc3b5eedf8d",
        "colab": {
          "base_uri": "https://localhost:8080/",
          "height": 472
        }
      },
      "execution_count": 11,
      "outputs": [
        {
          "output_type": "display_data",
          "data": {
            "text/plain": [
              "<Figure size 640x480 with 1 Axes>"
            ],
            "image/png": "[encoded data removed]"
          },
          "metadata": {}
        }
      ]
    },
    {
      "cell_type": "code",
      "source": [],
      "metadata": {
        "id": "hmQB11JOJgro"
      },
      "execution_count": null,
      "outputs": []
    }
  ],
  "metadata": {
    "colab": {
      "provenance": [],
      "gpuType": "V28",
      "include_colab_link": true
    },
    "kernelspec": {
      "display_name": "Python 3",
      "name": "python3"
    },
    "language_info": {
      "name": "python"
    },
    "accelerator": "TPU"
  },
  "nbformat": 4,
  "nbformat_minor": 0
}