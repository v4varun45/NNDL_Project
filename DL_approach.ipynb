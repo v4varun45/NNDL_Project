{
  "cells": [
    {
      "cell_type": "markdown",
      "metadata": {
        "id": "view-in-github",
        "colab_type": "text"
      },
      "source": [
        "<a href=\"https://colab.research.google.com/github/kvamsi7/mscs/blob/mscs_nn_prj/CS5720-Neural%20Network%20and%20Deep%20Learning/NN_Final_Project/DL_approach.ipynb\" target=\"_parent\"><img src=\"https://colab.research.google.com/assets/colab-badge.svg\" alt=\"Open In Colab\"/></a>"
      ]
    },
    {
      "cell_type": "code",
      "execution_count": 2,
      "id": "fc3cd128",
      "metadata": {
        "id": "fc3cd128"
      },
      "outputs": [],
      "source": [
        "import numpy as np\n",
        "import pandas as pd\n",
        "import re\n",
        "import seaborn as sns\n",
        "from sklearn.model_selection import train_test_split\n",
        "from sklearn.metrics import accuracy_score, confusion_matrix\n",
        "from sklearn.feature_extraction.text import CountVectorizer\n",
        "from sklearn.preprocessing import LabelEncoder\n",
        "from keras.models import Sequential\n",
        "from keras.callbacks import EarlyStopping\n",
        "from keras.layers import Dense, Embedding, LSTM, Flatten,Bidirectional\n",
        "from tensorflow.keras.preprocessing.sequence import pad_sequences\n",
        "from tensorflow.keras.preprocessing.text import Tokenizer\n",
        "from sklearn.metrics import confusion_matrix,classification_report\n",
        "from keras.callbacks import ReduceLROnPlateau\n",
        "import seaborn as sns\n",
        "import matplotlib.pyplot as plt\n",
        "from keras.models import load_model\n",
        "import pickle\n",
        "import nltk\n",
        "from nltk.corpus import stopwords,wordnet\n",
        "from nltk.stem.porter import PorterStemmer\n",
        "from nltk.stem import WordNetLemmatizer\n",
        "from nltk import pos_tag\n",
        "from string import punctuation"
      ]
    },
    {
      "cell_type": "markdown",
      "id": "f0f6778d",
      "metadata": {
        "id": "f0f6778d"
      },
      "source": [
        "### Load Data"
      ]
    },
    {
      "cell_type": "code",
      "execution_count": null,
      "id": "0907a72e",
      "metadata": {
        "id": "0907a72e"
      },
      "outputs": [],
      "source": [
        "dataset_path_1 = r'/content/Restaurant_Reviews.tsv'\n",
        "dataset_path_2 = r'/content/Restaurant reviews.csv'"
      ]
    },
    {
      "cell_type": "code",
      "execution_count": null,
      "id": "61f2db92",
      "metadata": {
        "id": "61f2db92"
      },
      "outputs": [],
      "source": [
        "data_set_1 = pd.read_csv(dataset_path_1,delimiter='\\t')\n",
        "data_set_2 = pd.read_csv(dataset_path_2,usecols=['Review','Rating'])"
      ]
    },
    {
      "cell_type": "markdown",
      "id": "61f01d47",
      "metadata": {
        "id": "61f01d47"
      },
      "source": [
        "### Data Cleaning and Preprocessing"
      ]
    },
    {
      "cell_type": "code",
      "execution_count": null,
      "id": "d7b30ea7",
      "metadata": {
        "id": "d7b30ea7"
      },
      "outputs": [],
      "source": [
        "# Discard all rows with null values\n",
        "data_set_2 = data_set_2.dropna()"
      ]
    },
    {
      "cell_type": "code",
      "execution_count": null,
      "id": "73ac6992",
      "metadata": {
        "colab": {
          "base_uri": "https://localhost:8080/"
        },
        "id": "73ac6992",
        "outputId": "1278db63-7e68-4598-f669-ff03952bd161"
      },
      "outputs": [
        {
          "data": {
            "text/plain": [
              "Rating\n",
              "5       3826\n",
              "4       2373\n",
              "1       1735\n",
              "3       1192\n",
              "2        684\n",
              "4.5       69\n",
              "3.5       47\n",
              "2.5       19\n",
              "1.5        9\n",
              "Like       1\n",
              "Name: count, dtype: int64"
            ]
          },
          "execution_count": 42,
          "metadata": {},
          "output_type": "execute_result"
        }
      ],
      "source": [
        "data_set_2.Rating.value_counts()"
      ]
    },
    {
      "cell_type": "code",
      "execution_count": null,
      "id": "f0840aec",
      "metadata": {
        "id": "f0840aec"
      },
      "outputs": [],
      "source": [
        "# drop like\n",
        "data_set_2 = data_set_2.drop(data_set_2[data_set_2.Rating == 'Like'].index)"
      ]
    },
    {
      "cell_type": "code",
      "execution_count": null,
      "id": "a7d96c09",
      "metadata": {
        "id": "a7d96c09"
      },
      "outputs": [],
      "source": [
        "data_set_2['Rating']=pd.to_numeric(data_set_2['Rating'])"
      ]
    },
    {
      "cell_type": "code",
      "execution_count": null,
      "id": "8d7a6956",
      "metadata": {
        "id": "8d7a6956"
      },
      "outputs": [],
      "source": [
        "# analysis on the label\n",
        "\n",
        "# create a feature with categorical reviews\n",
        "def format_rating(rating):\n",
        "    if rating < 3:\n",
        "        return 0\n",
        "    elif rating >= 3:\n",
        "        return 1\n",
        "\n",
        "category = data_set_2['Rating'].apply(format_rating)\n"
      ]
    },
    {
      "cell_type": "code",
      "execution_count": null,
      "id": "d958711c",
      "metadata": {
        "id": "d958711c"
      },
      "outputs": [],
      "source": [
        "data_set_2['Liked'] = pd.to_numeric(category,downcast='integer')"
      ]
    },
    {
      "cell_type": "code",
      "execution_count": null,
      "id": "ozNwDcq8xLfi",
      "metadata": {
        "id": "ozNwDcq8xLfi"
      },
      "outputs": [],
      "source": [
        "data_set_2 = data_set_2.drop('Rating',axis = 1)"
      ]
    },
    {
      "cell_type": "code",
      "execution_count": null,
      "id": "zPBZ2V1uvaXp",
      "metadata": {
        "id": "zPBZ2V1uvaXp"
      },
      "outputs": [],
      "source": [
        "# pd.merge(data_set_1,data_set_2,on='key')\n",
        "data_set = pd.concat([data_set_1,data_set_2],ignore_index=True)"
      ]
    },
    {
      "cell_type": "code",
      "execution_count": null,
      "id": "CBsJ5IyI0uRX",
      "metadata": {
        "id": "CBsJ5IyI0uRX"
      },
      "outputs": [],
      "source": [
        "data_set.to_csv('data_set_c.csv')"
      ]
    },
    {
      "cell_type": "code",
      "execution_count": null,
      "id": "1f09ec33",
      "metadata": {
        "id": "1f09ec33"
      },
      "outputs": [],
      "source": [
        "# Function to check if a string contains emojis\n",
        "def contains_emoji(text):\n",
        "    emoji_pattern = re.compile(\"[\"\n",
        "                               u\"\\U0001F600-\\U0001F64F\"  # emoticons\n",
        "                               u\"\\U0001F300-\\U0001F5FF\"  # symbols & pictographs\n",
        "                               u\"\\U0001F680-\\U0001F6FF\"  # transport & map symbols\n",
        "                               u\"\\U0001F700-\\U0001F77F\"  # alchemical symbols\n",
        "                               u\"\\U0001F780-\\U0001F7FF\"  # Geometric Shapes Extended\n",
        "                               u\"\\U0001F800-\\U0001F8FF\"  # Supplemental Arrows-C\n",
        "                               u\"\\U0001F900-\\U0001F9FF\"  # Supplemental Symbols and Pictographs\n",
        "                               u\"\\U0001FA00-\\U0001FA6F\"  # Chess Symbols\n",
        "                               u\"\\U0001FA70-\\U0001FAFF\"  # Symbols and Pictographs Extended-A\n",
        "                               u\"\\U00002702-\\U000027B0\"  # Dingbats\n",
        "                               u\"\\U000024C2-\\U0001F251\"\n",
        "                               \"]+\", flags=re.UNICODE)\n",
        "    return bool(emoji_pattern.search(text))\n",
        "\n",
        "# Filter reviews containing emojis\n",
        "emojis_reviews = data_set['Review'][data_set['Review'].apply(contains_emoji)]"
      ]
    },
    {
      "cell_type": "code",
      "execution_count": null,
      "id": "6af78d44",
      "metadata": {
        "colab": {
          "base_uri": "https://localhost:8080/"
        },
        "id": "6af78d44",
        "outputId": "2e883859-50e9-48e0-8a48-76b3bab2036f"
      },
      "outputs": [
        {
          "data": {
            "text/plain": [
              "(708,)"
            ]
          },
          "execution_count": 90,
          "metadata": {},
          "output_type": "execute_result"
        }
      ],
      "source": [
        "emojis_reviews.shape"
      ]
    },
    {
      "cell_type": "code",
      "execution_count": null,
      "id": "fa41dbc4",
      "metadata": {
        "id": "fa41dbc4"
      },
      "outputs": [],
      "source": [
        "# remove the emoji from the text\n",
        "\n",
        "# Function to remove emojis from a text while preserving attached words\n",
        "def remove_emojis(text):\n",
        "    emoji_pattern = re.compile(\"[\"\n",
        "                               u\"\\U0001F600-\\U0001F64F\"  # emoticons\n",
        "                               u\"\\U0001F300-\\U0001F5FF\"  # symbols & pictographs\n",
        "                               u\"\\U0001F680-\\U0001F6FF\"  # transport & map symbols\n",
        "                               u\"\\U0001F700-\\U0001F77F\"  # alchemical symbols\n",
        "                               u\"\\U0001F780-\\U0001F7FF\"  # Geometric Shapes Extended\n",
        "                               u\"\\U0001F800-\\U0001F8FF\"  # Supplemental Arrows-C\n",
        "                               u\"\\U0001F900-\\U0001F9FF\"  # Supplemental Symbols and Pictographs\n",
        "                               u\"\\U0001FA00-\\U0001FA6F\"  # Chess Symbols\n",
        "                               u\"\\U0001FA70-\\U0001FAFF\"  # Symbols and Pictographs Extended-A\n",
        "                               u\"\\U00002702-\\U000027B0\"  # Dingbats\n",
        "                               u\"\\U000024C2-\\U0001F251\"\n",
        "                               \"]+\", flags=re.UNICODE)\n",
        "    return emoji_pattern.sub(r'', text)\n",
        "\n",
        "data_set['Review'] = data_set['Review'].apply(remove_emojis)"
      ]
    },
    {
      "cell_type": "code",
      "execution_count": null,
      "id": "b5599c2d",
      "metadata": {
        "id": "b5599c2d"
      },
      "outputs": [],
      "source": [
        "# save the data\n",
        "\n",
        "# data_set.to_csv(\"cleaned_rest_review.csv\")"
      ]
    },
    {
      "cell_type": "code",
      "execution_count": 3,
      "id": "07ef6a48",
      "metadata": {
        "id": "07ef6a48"
      },
      "outputs": [],
      "source": [
        "# loading saved data\n",
        "data_set = pd.read_csv(\"/content/cleaned_rest_review.csv\")"
      ]
    },
    {
      "cell_type": "code",
      "execution_count": 4,
      "id": "c9375d9f",
      "metadata": {
        "id": "c9375d9f"
      },
      "outputs": [],
      "source": [
        "data_set = data_set[~data_set['Review'].isna()]\n",
        "data_set.reset_index(inplace=True)"
      ]
    },
    {
      "cell_type": "code",
      "execution_count": 5,
      "id": "JH0jW5F31Wus",
      "metadata": {
        "id": "JH0jW5F31Wus"
      },
      "outputs": [],
      "source": [
        "# helper function to get simple pos\n",
        "def get_simple_pos(tag):\n",
        "    if tag.startswith('J'):\n",
        "        return wordnet.ADJ\n",
        "    if tag.startswith('V'):\n",
        "        return wordnet.VERB\n",
        "    if tag.startswith('N'):\n",
        "        return wordnet.NOUN\n",
        "    if tag.startswith('R'):\n",
        "        return wordnet.ADV\n",
        "    else:\n",
        "        return wordnet.NOUN"
      ]
    },
    {
      "cell_type": "code",
      "execution_count": 6,
      "id": "fey7Doo0VzcK",
      "metadata": {
        "colab": {
          "base_uri": "https://localhost:8080/"
        },
        "id": "fey7Doo0VzcK",
        "outputId": "ae7a4daf-c7dc-459f-ef7d-98576093fd01"
      },
      "outputs": [
        {
          "output_type": "stream",
          "name": "stderr",
          "text": [
            "[nltk_data] Downloading package stopwords to /root/nltk_data...\n",
            "[nltk_data]   Unzipping corpora/stopwords.zip.\n",
            "[nltk_data] Downloading package averaged_perceptron_tagger to\n",
            "[nltk_data]     /root/nltk_data...\n",
            "[nltk_data]   Unzipping taggers/averaged_perceptron_tagger.zip.\n",
            "[nltk_data] Downloading package wordnet to /root/nltk_data...\n"
          ]
        },
        {
          "output_type": "execute_result",
          "data": {
            "text/plain": [
              "True"
            ]
          },
          "metadata": {},
          "execution_count": 6
        }
      ],
      "source": [
        "# nltk.download('stopwords')\n",
        "# nltk.download('averaged_perceptron_tagger')\n",
        "# nltk.download('wordnet')"
      ]
    },
    {
      "cell_type": "code",
      "execution_count": 7,
      "id": "KeYSc63H1qrp",
      "metadata": {
        "id": "KeYSc63H1qrp"
      },
      "outputs": [],
      "source": [
        "# lemmatizer = WordNetLemmatizer()\n",
        "stop_words = set(stopwords.words('english'))\n",
        "# adding punctuations to stopwords\n",
        "stop_words.update(list(punctuation))\n",
        "\n",
        "def clean_review(words):\n",
        "    output_words = []\n",
        "    for word in words:\n",
        "        # to store the output words\n",
        "        if word.lower() not in stop_words:\n",
        "            # actual pos\n",
        "            pos = pos_tag([word])   # passing the word as an array because pos_tag expect and array of words,\n",
        "                                    # otherwise will get the pos_tag of each character in the word\n",
        "            # simple pos\n",
        "            pos = get_simple_pos(pos[0][1])  # the position of the tag is 1 in the tuple of pos which is the output from above statement\n",
        "            clean_word = lemmatizer.lemmatize(word,pos)\n",
        "            output_words.append(clean_word.lower())\n",
        "    return output_words"
      ]
    },
    {
      "cell_type": "code",
      "execution_count": 8,
      "id": "ddb82dd3",
      "metadata": {
        "id": "ddb82dd3"
      },
      "outputs": [],
      "source": [
        "# build the corpus\n",
        "ps = PorterStemmer()\n",
        "lemmatizer = WordNetLemmatizer()\n",
        "\n",
        "all_stopwords = stopwords.words('english')\n",
        "all_stopwords.remove('not')\n",
        "all_stopwords = set(all_stopwords)\n",
        "all_stopwords.update(list(punctuation))"
      ]
    },
    {
      "cell_type": "code",
      "execution_count": 9,
      "id": "2f04a22e",
      "metadata": {
        "id": "2f04a22e"
      },
      "outputs": [],
      "source": [
        "# an array to append all the cleaned text as corpus\n",
        "\n",
        "def get_corpus(data):\n",
        "    corpus = []\n",
        "\n",
        "    for i in range(0, len(data)):\n",
        "        review = re.sub(r'[^a-zA-Z]',' ',data[i])\n",
        "        review = review.lower().split()\n",
        "        output_words = []\n",
        "        for word in review:\n",
        "          if word.lower() not in all_stopwords:\n",
        "            pos = pos_tag([word])\n",
        "            pos = get_simple_pos(pos[0][1])\n",
        "            clean_word = lemmatizer.lemmatize(word,pos)\n",
        "            output_words.append(clean_word)\n",
        "        review = ' '.join(output_words)\n",
        "        corpus.append(review)\n",
        "    return corpus"
      ]
    },
    {
      "cell_type": "code",
      "execution_count": 10,
      "id": "b7a6528e",
      "metadata": {
        "id": "b7a6528e"
      },
      "outputs": [],
      "source": [
        "corpus = get_corpus(data_set['Review'])"
      ]
    },
    {
      "cell_type": "markdown",
      "id": "0c8b8d6e",
      "metadata": {
        "id": "0c8b8d6e"
      },
      "source": [
        "### Data Transformation"
      ]
    },
    {
      "cell_type": "code",
      "execution_count": 11,
      "id": "LaxRARsXEV29",
      "metadata": {
        "id": "LaxRARsXEV29"
      },
      "outputs": [],
      "source": [
        "# Convert labels to binary\n",
        "max_features = 10000\n",
        "oov_token = \"<OOV>\"\n",
        "max_len = 100\n",
        "padding_type='post'\n",
        "truncation_type='post'\n",
        "\n",
        "tokenizer = Tokenizer(num_words=max_features, split=' ',oov_token=oov_token)\n",
        "tokenizer.fit_on_texts(corpus)\n",
        "X = tokenizer.texts_to_sequences(corpus)\n",
        "\n",
        "X = pad_sequences(X,maxlen=max_len,padding=padding_type,truncating=truncation_type)\n",
        "label_encoder = LabelEncoder()\n",
        "y = label_encoder.fit_transform(data_set['Liked'])"
      ]
    },
    {
      "cell_type": "markdown",
      "source": [
        "Embedding process"
      ],
      "metadata": {
        "id": "GBa1BBU2DqGk"
      },
      "id": "GBa1BBU2DqGk"
    },
    {
      "cell_type": "code",
      "execution_count": 12,
      "id": "z_wZLaGbRbnc",
      "metadata": {
        "id": "z_wZLaGbRbnc",
        "colab": {
          "base_uri": "https://localhost:8080/"
        },
        "outputId": "f5ea924d-bedf-455b-9306-e4f7eb7023ce"
      },
      "outputs": [
        {
          "output_type": "stream",
          "name": "stdout",
          "text": [
            "--2024-04-23 15:01:18--  http://nlp.stanford.edu/data/glove.6B.zip\n",
            "Resolving nlp.stanford.edu (nlp.stanford.edu)... 171.64.67.140\n",
            "Connecting to nlp.stanford.edu (nlp.stanford.edu)|171.64.67.140|:80... connected.\n",
            "HTTP request sent, awaiting response... 302 Found\n",
            "Location: https://nlp.stanford.edu/data/glove.6B.zip [following]\n",
            "--2024-04-23 15:01:18--  https://nlp.stanford.edu/data/glove.6B.zip\n",
            "Connecting to nlp.stanford.edu (nlp.stanford.edu)|171.64.67.140|:443... connected.\n",
            "HTTP request sent, awaiting response... 301 Moved Permanently\n",
            "Location: https://downloads.cs.stanford.edu/nlp/data/glove.6B.zip [following]\n",
            "--2024-04-23 15:01:19--  https://downloads.cs.stanford.edu/nlp/data/glove.6B.zip\n",
            "Resolving downloads.cs.stanford.edu (downloads.cs.stanford.edu)... 171.64.64.22\n",
            "Connecting to downloads.cs.stanford.edu (downloads.cs.stanford.edu)|171.64.64.22|:443... connected.\n",
            "HTTP request sent, awaiting response... 200 OK\n",
            "Length: 862182613 (822M) [application/zip]\n",
            "Saving to: ‘/tmp/glove.6B.zip’\n",
            "\n",
            "/tmp/glove.6B.zip   100%[===================>] 822.24M  5.02MB/s    in 2m 39s  \n",
            "\n",
            "2024-04-23 15:03:58 (5.17 MB/s) - ‘/tmp/glove.6B.zip’ saved [862182613/862182613]\n",
            "\n"
          ]
        }
      ],
      "source": [
        "!wget --no-check-certificate \\\n",
        "     http://nlp.stanford.edu/data/glove.6B.zip \\\n",
        "     -O /tmp/glove.6B.zip"
      ]
    },
    {
      "cell_type": "code",
      "execution_count": 13,
      "id": "m9OfTHVVRXmW",
      "metadata": {
        "id": "m9OfTHVVRXmW"
      },
      "outputs": [],
      "source": [
        "import os\n",
        "import zipfile\n",
        "with zipfile.ZipFile('/tmp/glove.6B.zip', 'r') as zip_ref:\n",
        "    zip_ref.extractall('/tmp/glove')"
      ]
    },
    {
      "cell_type": "code",
      "execution_count": 14,
      "id": "apQ3lkDRSZ4L",
      "metadata": {
        "id": "apQ3lkDRSZ4L",
        "colab": {
          "base_uri": "https://localhost:8080/"
        },
        "outputId": "00480339-275c-44d7-888e-dbe22e98cb6a"
      },
      "outputs": [
        {
          "output_type": "stream",
          "name": "stdout",
          "text": [
            "Found 400000 word vectors.\n"
          ]
        }
      ],
      "source": [
        "import numpy as np\n",
        "embeddings_index = {}\n",
        "f = open('/tmp/glove/glove.6B.100d.txt')\n",
        "for line in f:\n",
        "    values = line.split()\n",
        "    word = values[0]\n",
        "    coefs = np.asarray(values[1:], dtype='float32')\n",
        "    embeddings_index[word] = coefs\n",
        "f.close()\n",
        "\n",
        "print('Found %s word vectors.' % len(embeddings_index))"
      ]
    },
    {
      "cell_type": "code",
      "execution_count": 15,
      "id": "Bsa5HxhZSl03",
      "metadata": {
        "id": "Bsa5HxhZSl03"
      },
      "outputs": [],
      "source": [
        "word_index = tokenizer.word_index\n",
        "embedding_matrix = np.zeros((len(word_index) + 1, max_len))\n",
        "for word, i in word_index.items():\n",
        "    embedding_vector = embeddings_index.get(word)\n",
        "    if embedding_vector is not None:\n",
        "        # words not found in embedding index will be all-zeros.\n",
        "        embedding_matrix[i] = embedding_vector"
      ]
    },
    {
      "cell_type": "code",
      "execution_count": 16,
      "id": "REte-WxuE5nq",
      "metadata": {
        "id": "REte-WxuE5nq"
      },
      "outputs": [],
      "source": [
        "# saving tokenizer\n",
        "tokenizer_path = 'tokenizer_try.pkl'\n",
        "pickle.dump(tokenizer,open(tokenizer_path,'wb'))"
      ]
    },
    {
      "cell_type": "code",
      "execution_count": 17,
      "id": "VnDv67mfE-a4",
      "metadata": {
        "id": "VnDv67mfE-a4"
      },
      "outputs": [],
      "source": [
        "# Split the dataset into training and testing sets\n",
        "X_train, X_test, y_train, y_test = train_test_split(X, y, test_size=0.2, random_state=0)"
      ]
    },
    {
      "cell_type": "code",
      "execution_count": 18,
      "id": "3fUFsV22eO33",
      "metadata": {
        "id": "3fUFsV22eO33"
      },
      "outputs": [],
      "source": [
        "from tensorflow.keras.callbacks import EarlyStopping, TensorBoard\n",
        "%load_ext tensorboard\n",
        "\n",
        "log_folder = 'logs'"
      ]
    },
    {
      "cell_type": "code",
      "execution_count": 19,
      "id": "XxeQ9ux8UhWP",
      "metadata": {
        "colab": {
          "base_uri": "https://localhost:8080/"
        },
        "id": "XxeQ9ux8UhWP",
        "outputId": "467cb527-012c-42ca-c67b-e31b6982100f"
      },
      "outputs": [
        {
          "output_type": "stream",
          "name": "stdout",
          "text": [
            "Epoch 1/25\n",
            "274/274 - 20s - loss: 0.3924 - accuracy: 0.8260 - val_loss: 0.2876 - val_accuracy: 0.8758 - lr: 0.0010 - 20s/epoch - 74ms/step\n",
            "Epoch 2/25\n",
            "274/274 - 8s - loss: 0.3270 - accuracy: 0.8589 - val_loss: 0.5936 - val_accuracy: 0.7699 - lr: 0.0010 - 8s/epoch - 28ms/step\n",
            "Epoch 3/25\n",
            "274/274 - 7s - loss: 0.3162 - accuracy: 0.8622 - val_loss: 0.2519 - val_accuracy: 0.8945 - lr: 0.0010 - 7s/epoch - 25ms/step\n",
            "Epoch 4/25\n",
            "274/274 - 7s - loss: 0.2787 - accuracy: 0.8788 - val_loss: 0.2499 - val_accuracy: 0.8913 - lr: 0.0010 - 7s/epoch - 25ms/step\n",
            "Epoch 5/25\n",
            "274/274 - 8s - loss: 0.2584 - accuracy: 0.8904 - val_loss: 0.2372 - val_accuracy: 0.9009 - lr: 0.0010 - 8s/epoch - 30ms/step\n",
            "Epoch 6/25\n",
            "274/274 - 7s - loss: 0.2469 - accuracy: 0.8939 - val_loss: 0.2268 - val_accuracy: 0.9119 - lr: 0.0010 - 7s/epoch - 25ms/step\n",
            "Epoch 7/25\n",
            "274/274 - 8s - loss: 0.2382 - accuracy: 0.8974 - val_loss: 0.2550 - val_accuracy: 0.9005 - lr: 0.0010 - 8s/epoch - 29ms/step\n",
            "Epoch 8/25\n",
            "274/274 - 7s - loss: 0.2302 - accuracy: 0.9033 - val_loss: 0.2262 - val_accuracy: 0.9055 - lr: 0.0010 - 7s/epoch - 27ms/step\n",
            "Epoch 9/25\n",
            "274/274 - 7s - loss: 0.2207 - accuracy: 0.9055 - val_loss: 0.2253 - val_accuracy: 0.9142 - lr: 0.0010 - 7s/epoch - 27ms/step\n",
            "Epoch 10/25\n",
            "274/274 - 7s - loss: 0.2171 - accuracy: 0.9074 - val_loss: 0.2182 - val_accuracy: 0.9155 - lr: 0.0010 - 7s/epoch - 26ms/step\n",
            "Epoch 11/25\n",
            "274/274 - 7s - loss: 0.2084 - accuracy: 0.9131 - val_loss: 0.2367 - val_accuracy: 0.9032 - lr: 0.0010 - 7s/epoch - 25ms/step\n",
            "Epoch 12/25\n",
            "274/274 - 8s - loss: 0.2000 - accuracy: 0.9171 - val_loss: 0.2280 - val_accuracy: 0.9105 - lr: 0.0010 - 8s/epoch - 28ms/step\n",
            "Epoch 13/25\n",
            "274/274 - 8s - loss: 0.1938 - accuracy: 0.9185 - val_loss: 0.2294 - val_accuracy: 0.9091 - lr: 0.0010 - 8s/epoch - 31ms/step\n",
            "Epoch 14/25\n",
            "274/274 - 7s - loss: 0.1683 - accuracy: 0.9293 - val_loss: 0.2295 - val_accuracy: 0.9087 - lr: 1.0000e-05 - 7s/epoch - 26ms/step\n",
            "Epoch 15/25\n",
            "274/274 - 7s - loss: 0.1693 - accuracy: 0.9261 - val_loss: 0.2291 - val_accuracy: 0.9087 - lr: 1.0000e-05 - 7s/epoch - 27ms/step\n"
          ]
        }
      ],
      "source": [
        "lstm_model = Sequential()\n",
        "lstm_model.add(Embedding(input_dim=len(word_index)+1,\n",
        "                         output_dim=max_len,\n",
        "                         weights=[embedding_matrix],\n",
        "                         input_length=max_len,\n",
        "                         trainable = False))\n",
        "lstm_model.add(Bidirectional(LSTM(units=150,dropout=0.5,return_sequences=True)))\n",
        "lstm_model.add(Bidirectional(LSTM(units=256,dropout=0.2)))\n",
        "lstm_model.add(Dense(128, activation='relu'))\n",
        "lstm_model.add(Dense(1, activation='sigmoid'))\n",
        "lstm_model.compile(optimizer='adam', loss='binary_crossentropy', metrics=['accuracy'])\n",
        "\n",
        "\n",
        "\n",
        "# callback\n",
        "callbacks = [EarlyStopping(monitor='val_loss',patience=5),\n",
        "             ReduceLROnPlateau(monitor='val_loss', factor=0.01, patience=3),\n",
        "             TensorBoard(log_dir=log_folder)]\n",
        "# Train LSTM model\n",
        "history = lstm_model.fit(X_train, y_train,validation_data=(X_test, y_test), epochs=25, batch_size=32, callbacks = callbacks,verbose=2)"
      ]
    },
    {
      "cell_type": "code",
      "execution_count": 20,
      "id": "5hEHH5GLsPPS",
      "metadata": {
        "colab": {
          "base_uri": "https://localhost:8080/",
          "height": 927
        },
        "id": "5hEHH5GLsPPS",
        "outputId": "e91b5eca-812d-401e-d9ed-87af696a1160"
      },
      "outputs": [
        {
          "output_type": "display_data",
          "data": {
            "text/plain": [
              "<Figure size 640x480 with 1 Axes>"
            ],
            "image/png": "[encoded data removed]"
          },
          "metadata": {}
        },
        {
          "output_type": "display_data",
          "data": {
            "text/plain": [
              "<Figure size 640x480 with 1 Axes>"
            ],
            "image/png": "[encoded data removed]"
          },
          "metadata": {}
        }
      ],
      "source": [
        "plt.plot(history.history['accuracy'])\n",
        "plt.plot(history.history['val_accuracy'])\n",
        "plt.title(f'model accuracy vs epoch')\n",
        "plt.ylabel('accuracy')\n",
        "plt.xlabel('epoch')\n",
        "plt.ylim(0,1)\n",
        "plt.xlim(0,15)\n",
        "plt.legend(['train', 'test'], loc='upper left')\n",
        "plt.show()\n",
        "\n",
        "plt.plot(history.history['loss'])\n",
        "plt.plot(history.history['val_loss'])\n",
        "plt.title(f'modelloss vs epoch')\n",
        "plt.ylabel('loss')\n",
        "plt.xlabel('epoch')\n",
        "plt.ylim(0,1)\n",
        "plt.xlim(0,15)\n",
        "plt.legend(['train', 'test'], loc='upper left')\n",
        "plt.show()"
      ]
    },
    {
      "cell_type": "code",
      "execution_count": 21,
      "id": "EvSD1VTBy6Dz",
      "metadata": {
        "colab": {
          "base_uri": "https://localhost:8080/"
        },
        "id": "EvSD1VTBy6Dz",
        "outputId": "ee0db8c2-7e02-4205-9aa1-0f6bc9959819"
      },
      "outputs": [
        {
          "output_type": "stream",
          "name": "stdout",
          "text": [
            "69/69 [==============================] - 1s 12ms/step - loss: 0.2291 - accuracy: 0.9087\n",
            "LSTM Test Accuracy: 0.9086757898330688\n"
          ]
        }
      ],
      "source": [
        "# Evaluate LSTM model\n",
        "lstm_loss, lstm_accuracy = lstm_model.evaluate(X_test, y_test)\n",
        "print(\"LSTM Test Accuracy:\", lstm_accuracy)\n"
      ]
    },
    {
      "cell_type": "code",
      "execution_count": 22,
      "id": "lMTzQxlmzOmj",
      "metadata": {
        "colab": {
          "base_uri": "https://localhost:8080/",
          "height": 644
        },
        "id": "lMTzQxlmzOmj",
        "outputId": "5dec101a-b073-4530-c3e5-faa7d81f67a5"
      },
      "outputs": [
        {
          "output_type": "execute_result",
          "data": {
            "image/png": "[encoded data removed]",
            "text/plain": [
              "<IPython.core.display.Image object>"
            ]
          },
          "metadata": {},
          "execution_count": 22
        }
      ],
      "source": [
        "from keras.models import Sequential\n",
        "from keras.layers import Dense\n",
        "from tensorflow.keras.utils import plot_model\n",
        "import keras\n",
        "\n",
        "keras.utils.plot_model(lstm_model, to_file='model_plot.png', show_shapes=True, show_layer_names=True)"
      ]
    },
    {
      "cell_type": "code",
      "execution_count": 23,
      "id": "QRFOH54pvbCA",
      "metadata": {
        "colab": {
          "base_uri": "https://localhost:8080/"
        },
        "id": "QRFOH54pvbCA",
        "outputId": "ccc7ab55-5f77-4203-aa49-428baa41ac1f"
      },
      "outputs": [
        {
          "output_type": "stream",
          "name": "stdout",
          "text": [
            "Model: \"sequential\"\n",
            "_________________________________________________________________\n",
            " Layer (type)                Output Shape              Param #   \n",
            "=================================================================\n",
            " embedding (Embedding)       (None, 100, 100)          1232500   \n",
            "                                                                 \n",
            " bidirectional (Bidirection  (None, 100, 300)          301200    \n",
            " al)                                                             \n",
            "                                                                 \n",
            " bidirectional_1 (Bidirecti  (None, 512)               1140736   \n",
            " onal)                                                           \n",
            "                                                                 \n",
            " dense (Dense)               (None, 128)               65664     \n",
            "                                                                 \n",
            " dense_1 (Dense)             (None, 1)                 129       \n",
            "                                                                 \n",
            "=================================================================\n",
            "Total params: 2740229 (10.45 MB)\n",
            "Trainable params: 1507729 (5.75 MB)\n",
            "Non-trainable params: 1232500 (4.70 MB)\n",
            "_________________________________________________________________\n"
          ]
        }
      ],
      "source": [
        "lstm_model.summary()"
      ]
    },
    {
      "cell_type": "code",
      "execution_count": 24,
      "id": "M-m8WdGS0I-v",
      "metadata": {
        "colab": {
          "base_uri": "https://localhost:8080/"
        },
        "id": "M-m8WdGS0I-v",
        "outputId": "8e06ba56-9872-42e9-f73b-67202614547a"
      },
      "outputs": [
        {
          "output_type": "stream",
          "name": "stderr",
          "text": [
            "/usr/local/lib/python3.10/dist-packages/keras/src/engine/training.py:3103: UserWarning: You are saving your model as an HDF5 file via `model.save()`. This file format is considered legacy. We recommend using instead the native Keras format, e.g. `model.save('my_model.keras')`.\n",
            "  saving_api.save_model(\n"
          ]
        }
      ],
      "source": [
        "# saving the model\n",
        "lstm_model.save(\"lstm_90.h5\")"
      ]
    },
    {
      "cell_type": "code",
      "source": [
        "# load saved model\n",
        "\n",
        "def build_model():\n",
        "    # Define LSTM model\n",
        "    lstm_model = Sequential()\n",
        "    lstm_model.add(Embedding(input_dim=len(word_index)+1,\n",
        "                            output_dim=max_len,\n",
        "                            weights=[embedding_matrix],\n",
        "                            input_length=max_len,\n",
        "                            trainable = False))\n",
        "    lstm_model.add(Bidirectional(LSTM(units=150,dropout=0.5,return_sequences=True)))\n",
        "    lstm_model.add(Bidirectional(LSTM(units=150,dropout=0.2)))\n",
        "    lstm_model.add(Dense(128, activation='relu'))\n",
        "    lstm_model.add(Dense(1, activation='sigmoid'))\n",
        "    lstm_model.compile(optimizer='adam', loss='binary_crossentropy', metrics=['accuracy'])\n",
        "    return lstm_model\n",
        "\n",
        "\n",
        "test_model = build_model()\n",
        "test_model.load_weights('/content/lstm_91.h5')"
      ],
      "metadata": {
        "id": "uHBEKmynqUEi"
      },
      "id": "uHBEKmynqUEi",
      "execution_count": null,
      "outputs": []
    },
    {
      "cell_type": "code",
      "source": [
        "y_pred_lstm = np.array([1 if y_p > 0.5 else 0 for y_p in lstm_model.predict(X_test)])"
      ],
      "metadata": {
        "colab": {
          "base_uri": "https://localhost:8080/"
        },
        "id": "G9je8G8XqOWG",
        "outputId": "9794fc65-00e4-432b-b81f-04ea24f89953"
      },
      "id": "G9je8G8XqOWG",
      "execution_count": 26,
      "outputs": [
        {
          "output_type": "stream",
          "name": "stdout",
          "text": [
            "69/69 [==============================] - 4s 16ms/step\n"
          ]
        }
      ]
    },
    {
      "cell_type": "code",
      "source": [
        "# confusion matrix on lstm model\n",
        "cf_matrix = confusion_matrix(y_test,y_pred_lstm)\n",
        "group_names = ['True Neg','False Pos','False Neg','True Pos']\n",
        "group_counts = [\"{0:0.0f}\".format(value) for value in\n",
        "                cf_matrix.flatten()]\n",
        "group_percentages = [\"{0:.2%}\".format(value) for value in\n",
        "                     cf_matrix.flatten()/np.sum(cf_matrix)]\n",
        "labels = [f\"{v1}\\n{v2}\\n{v3}\" for v1, v2, v3 in\n",
        "          zip(group_names,group_counts,group_percentages)]\n",
        "labels = np.asarray(labels).reshape(2,2)\n",
        "sns.heatmap(cf_matrix, annot=labels, fmt=\"\", cmap='Blues')\n",
        "plt.show()"
      ],
      "metadata": {
        "colab": {
          "base_uri": "https://localhost:8080/",
          "height": 430
        },
        "id": "UBTSVteTtM8d",
        "outputId": "718b3af8-7009-4597-abde-76a4acb8571c"
      },
      "id": "UBTSVteTtM8d",
      "execution_count": 27,
      "outputs": [
        {
          "output_type": "display_data",
          "data": {
            "text/plain": [
              "<Figure size 640x480 with 2 Axes>"
            ],
            "image/png": "[encoded data removed]"
          },
          "metadata": {}
        }
      ]
    },
    {
      "cell_type": "code",
      "source": [
        "print(\"lstm classification report\",classification_report(y_test,y_pred_lstm))"
      ],
      "metadata": {
        "colab": {
          "base_uri": "https://localhost:8080/"
        },
        "id": "7XjmgwJdtV4C",
        "outputId": "39e56053-3b36-4aaa-94c0-6d9edfe94a8e"
      },
      "id": "7XjmgwJdtV4C",
      "execution_count": 28,
      "outputs": [
        {
          "output_type": "stream",
          "name": "stdout",
          "text": [
            "lstm classification report               precision    recall  f1-score   support\n",
            "\n",
            "           0       0.83      0.84      0.83       604\n",
            "           1       0.94      0.94      0.94      1586\n",
            "\n",
            "    accuracy                           0.91      2190\n",
            "   macro avg       0.89      0.89      0.89      2190\n",
            "weighted avg       0.91      0.91      0.91      2190\n",
            "\n"
          ]
        }
      ]
    },
    {
      "cell_type": "code",
      "execution_count": null,
      "id": "MixOVkgCFfp6",
      "metadata": {
        "id": "MixOVkgCFfp6"
      },
      "outputs": [],
      "source": [
        "#############################"
      ]
    },
    {
      "cell_type": "code",
      "source": [
        "def single_prediction(review,model):\n",
        "\n",
        "  # input_vector = cv.transform(input_text).toarray()\n",
        "  input_vector_test = tokenizer.texts_to_sequences(review)\n",
        "\n",
        "  input_vector_seq = pad_sequences(input_vector_test,maxlen=max_len)\n",
        "\n",
        "  # LSTM model prediction\n",
        "  prediction = model.predict(input_vector_seq)[0][0]\n",
        "  treshold = 0.5\n",
        "  if prediction >= 0.5:\n",
        "      print('LSTM: Review is Positive')\n",
        "  else:\n",
        "      print('LSTM: Review is Negative')"
      ],
      "metadata": {
        "id": "PBELGhxvuOoi"
      },
      "id": "PBELGhxvuOoi",
      "execution_count": 29,
      "outputs": []
    },
    {
      "cell_type": "code",
      "execution_count": 30,
      "id": "1c90d9aa",
      "metadata": {
        "id": "1c90d9aa"
      },
      "outputs": [],
      "source": [
        "review_test_p = [\"I recently had the pleasure of dining here, and it was an experience that exceeded all my expectations. From the moment we walked in, the ambiance set the stage for what was to be a memorable evening. The staff greeted us warmly, ensuring we felt welcomed and valued.The menu selection was impressive, offering a variety of dishes that catered to all preferences, including several innovative options for those with dietary restrictions. Each dish we ordered was a testament to the chef's expertise and passion for culinary excellence. The flavors were balanced perfectly, with each ingredient shining through without overpowering the others.What truly set this place apart was the attention to detail. The presentation of the food was artistic, the timing between courses was impeccable, and the staff went above and beyond to accommodate our requests, making us feel truly special.I cannot recommend this place enough. Whether you’re looking for a place to celebrate a special occasion or just in search of a delightful dining experience, this should be at the top of your list. We’re already looking forward to our next visit!\"]\n",
        "review_test_n = [\"Unfortunately, my recent visit to the restaurant left much to be desired. Despite the high expectations set by its reputation, the experience was underwhelming from start to finish. Upon arrival, the greeting was lukewarm, and it took a noticeable amount of time before we were seated, despite having reservations.The menu, while extensive, seemed to lack coherence, and the descriptions did little to entice the palate or clarify what one might expect from each dish. When our orders finally arrived, the presentation was lackluster, and the flavors were surprisingly bland. A particular disappointment was the main course, which was not only overcooked but also arrived lukewarm, suggesting it had been sitting out for some time.Service throughout the evening was inconsistent; our server seemed disinterested and was seldom seen. Attempts to address our concerns about the meal were met with indifference, leaving us feeling unvalued as customers.Given the price point and the establishment's reputation, I expected a dining experience that delighted the senses and showcased culinary excellence. Unfortunately, what I encountered was a forgettable meal paired with service that failed to meet even basic standards of hospitality. It's unlikely I'll return or recommend this restaurant to others based on this visit.\"]\n",
        "review_test_neu = [\"My recent visit to the restaurant was a mixed experience. Walking in, the ambiance of the place was inviting, with a nicely decorated interior that promised a cozy dining atmosphere. The staff greeted us politely and seated us without delay, which was a good start to the evening.The menu presented a wide array of options, ranging from traditional favorites to some intriguing chef specials. It took some time to make our selections, partly due to the variety and partly because the menu descriptions could have been more detailed.When the food arrived, the presentation was decent, and the portions were generous. Some of the dishes we tried were quite satisfying, offering a good balance of flavors and freshness. However, a few items fell short of expectations, lacking the depth of flavor we anticipated. It was a hit or miss on the culinary front.Service was generally efficient, though it lacked the warmth and attentiveness that elevate a dining experience from good to great. Our server was courteous but seemed rushed, making our interactions feel somewhat transactional.The overall value for the money was fair, considering the portion sizes and the quality of the ingredients used. However, the inconsistency in the food and service left us feeling that while the restaurant has potential, there's room for improvement in execution and attention to detail.In conclusion, while the visit didn't fully meet our expectations, it wasn't a disappointing experience either. For those considering dining here, there might be dishes that delight, but I'd recommend managing your expectations when it comes to service and some menu items.\"]"
      ]
    },
    {
      "cell_type": "code",
      "execution_count": 31,
      "id": "9e2d4bd1",
      "metadata": {
        "id": "9e2d4bd1"
      },
      "outputs": [],
      "source": [
        "corp_test_sample = get_corpus(review_test_neu)"
      ]
    },
    {
      "cell_type": "code",
      "execution_count": 32,
      "id": "72c43a74",
      "metadata": {
        "id": "72c43a74",
        "colab": {
          "base_uri": "https://localhost:8080/"
        },
        "outputId": "4d8e7795-3973-4002-e12f-653baeec9d27"
      },
      "outputs": [
        {
          "output_type": "stream",
          "name": "stdout",
          "text": [
            "1/1 [==============================] - 0s 37ms/step\n",
            "LSTM: Review is Positive\n"
          ]
        }
      ],
      "source": [
        "single_prediction(corp_test_sample,lstm_model)"
      ]
    },
    {
      "cell_type": "code",
      "execution_count": null,
      "id": "yjjvmRBI40M2",
      "metadata": {
        "id": "yjjvmRBI40M2"
      },
      "outputs": [],
      "source": []
    }
  ],
  "metadata": {
    "accelerator": "GPU",
    "colab": {
      "gpuType": "T4",
      "provenance": [],
      "include_colab_link": true
    },
    "kernelspec": {
      "display_name": "Python 3",
      "name": "python3"
    },
    "language_info": {
      "codemirror_mode": {
        "name": "ipython",
        "version": 3
      },
      "file_extension": ".py",
      "mimetype": "text/x-python",
      "name": "python",
      "nbconvert_exporter": "python",
      "pygments_lexer": "ipython3",
      "version": "3.7.11"
    }
  },
  "nbformat": 4,
  "nbformat_minor": 5
}