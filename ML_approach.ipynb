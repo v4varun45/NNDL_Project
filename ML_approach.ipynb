{
  "cells": [
    {
      "cell_type": "markdown",
      "metadata": {
        "id": "view-in-github",
        "colab_type": "text"
      },
      "source": [
        "<a href=\"https://colab.research.google.com/github/kvamsi7/mscs/blob/mscs_nn_prj/CS5720-Neural%20Network%20and%20Deep%20Learning/NN_Final_Project/ML_approach.ipynb\" target=\"_parent\"><img src=\"https://colab.research.google.com/assets/colab-badge.svg\" alt=\"Open In Colab\"/></a>"
      ]
    },
    {
      "cell_type": "code",
      "execution_count": null,
      "id": "fc3cd128",
      "metadata": {
        "id": "fc3cd128"
      },
      "outputs": [],
      "source": [
        "import numpy as np\n",
        "import pandas as pd"
      ]
    },
    {
      "cell_type": "markdown",
      "id": "f0f6778d",
      "metadata": {
        "id": "f0f6778d"
      },
      "source": [
        "### Load Data"
      ]
    },
    {
      "cell_type": "code",
      "execution_count": null,
      "id": "0907a72e",
      "metadata": {
        "id": "0907a72e"
      },
      "outputs": [],
      "source": [
        "dataset_path_1 = r'/content/Restaurant_Reviews.tsv'\n",
        "dataset_path_2 = r'/content/Restaurant reviews.csv'"
      ]
    },
    {
      "cell_type": "code",
      "execution_count": null,
      "id": "61f2db92",
      "metadata": {
        "id": "61f2db92"
      },
      "outputs": [],
      "source": [
        "data_set_1 = pd.read_csv(dataset_path_1,delimiter='\\t')\n",
        "data_set_2 = pd.read_csv(dataset_path_2,usecols=['Review','Rating'])"
      ]
    },
    {
      "cell_type": "markdown",
      "id": "61f01d47",
      "metadata": {
        "id": "61f01d47"
      },
      "source": [
        "### Data Cleaning and Preprocessing"
      ]
    },
    {
      "cell_type": "code",
      "execution_count": null,
      "id": "4cb4128a",
      "metadata": {
        "id": "4cb4128a"
      },
      "outputs": [],
      "source": [
        "import re\n",
        "import nltk\n",
        "from nltk.corpus import stopwords,wordnet\n",
        "from nltk.stem.porter import PorterStemmer\n",
        "from nltk.stem import WordNetLemmatizer\n",
        "from nltk import pos_tag\n",
        "from string import punctuation"
      ]
    },
    {
      "cell_type": "code",
      "execution_count": null,
      "id": "d7b30ea7",
      "metadata": {
        "id": "d7b30ea7"
      },
      "outputs": [],
      "source": [
        "# Discard all rows with null values\n",
        "data_set_2 = data_set_2.dropna()"
      ]
    },
    {
      "cell_type": "code",
      "execution_count": null,
      "id": "73ac6992",
      "metadata": {
        "colab": {
          "base_uri": "https://localhost:8080/"
        },
        "id": "73ac6992",
        "outputId": "1278db63-7e68-4598-f669-ff03952bd161"
      },
      "outputs": [
        {
          "output_type": "execute_result",
          "data": {
            "text/plain": [
              "Rating\n",
              "5       3826\n",
              "4       2373\n",
              "1       1735\n",
              "3       1192\n",
              "2        684\n",
              "4.5       69\n",
              "3.5       47\n",
              "2.5       19\n",
              "1.5        9\n",
              "Like       1\n",
              "Name: count, dtype: int64"
            ]
          },
          "metadata": {},
          "execution_count": 42
        }
      ],
      "source": [
        "data_set_2.Rating.value_counts()"
      ]
    },
    {
      "cell_type": "code",
      "execution_count": null,
      "id": "f0840aec",
      "metadata": {
        "id": "f0840aec"
      },
      "outputs": [],
      "source": [
        "# drop like\n",
        "data_set_2 = data_set_2.drop(data_set_2[data_set_2.Rating == 'Like'].index)"
      ]
    },
    {
      "cell_type": "code",
      "execution_count": null,
      "id": "a7d96c09",
      "metadata": {
        "id": "a7d96c09"
      },
      "outputs": [],
      "source": [
        "data_set_2['Rating']=pd.to_numeric(data_set_2['Rating'])"
      ]
    },
    {
      "cell_type": "code",
      "execution_count": null,
      "id": "8d7a6956",
      "metadata": {
        "id": "8d7a6956"
      },
      "outputs": [],
      "source": [
        "# analysis on the label\n",
        "\n",
        "# create a feature with categorical reviews\n",
        "def format_rating(rating):\n",
        "    if rating < 3:\n",
        "        return 0\n",
        "    elif rating >= 3:\n",
        "        return 1\n",
        "\n",
        "category = data_set_2['Rating'].apply(format_rating)\n"
      ]
    },
    {
      "cell_type": "code",
      "execution_count": null,
      "id": "d958711c",
      "metadata": {
        "id": "d958711c"
      },
      "outputs": [],
      "source": [
        "data_set_2['Liked'] = pd.to_numeric(category,downcast='integer')"
      ]
    },
    {
      "cell_type": "code",
      "source": [
        "data_set_2 = data_set_2.drop('Rating',axis = 1)"
      ],
      "metadata": {
        "id": "ozNwDcq8xLfi"
      },
      "id": "ozNwDcq8xLfi",
      "execution_count": null,
      "outputs": []
    },
    {
      "cell_type": "code",
      "source": [
        "# pd.merge(data_set_1,data_set_2,on='key')\n",
        "data_set = pd.concat([data_set_1,data_set_2],ignore_index=True)"
      ],
      "metadata": {
        "id": "zPBZ2V1uvaXp"
      },
      "id": "zPBZ2V1uvaXp",
      "execution_count": null,
      "outputs": []
    },
    {
      "cell_type": "code",
      "source": [
        "data_set.to_csv('data_set_c.csv')"
      ],
      "metadata": {
        "id": "CBsJ5IyI0uRX"
      },
      "id": "CBsJ5IyI0uRX",
      "execution_count": null,
      "outputs": []
    },
    {
      "cell_type": "code",
      "execution_count": null,
      "id": "1f09ec33",
      "metadata": {
        "id": "1f09ec33"
      },
      "outputs": [],
      "source": [
        "# Function to check if a string contains emojis\n",
        "def contains_emoji(text):\n",
        "    emoji_pattern = re.compile(\"[\"\n",
        "                               u\"\\U0001F600-\\U0001F64F\"  # emoticons\n",
        "                               u\"\\U0001F300-\\U0001F5FF\"  # symbols & pictographs\n",
        "                               u\"\\U0001F680-\\U0001F6FF\"  # transport & map symbols\n",
        "                               u\"\\U0001F700-\\U0001F77F\"  # alchemical symbols\n",
        "                               u\"\\U0001F780-\\U0001F7FF\"  # Geometric Shapes Extended\n",
        "                               u\"\\U0001F800-\\U0001F8FF\"  # Supplemental Arrows-C\n",
        "                               u\"\\U0001F900-\\U0001F9FF\"  # Supplemental Symbols and Pictographs\n",
        "                               u\"\\U0001FA00-\\U0001FA6F\"  # Chess Symbols\n",
        "                               u\"\\U0001FA70-\\U0001FAFF\"  # Symbols and Pictographs Extended-A\n",
        "                               u\"\\U00002702-\\U000027B0\"  # Dingbats\n",
        "                               u\"\\U000024C2-\\U0001F251\"\n",
        "                               \"]+\", flags=re.UNICODE)\n",
        "    return bool(emoji_pattern.search(text))\n",
        "\n",
        "# Filter reviews containing emojis\n",
        "emojis_reviews = data_set['Review'][data_set['Review'].apply(contains_emoji)]"
      ]
    },
    {
      "cell_type": "code",
      "execution_count": null,
      "id": "6af78d44",
      "metadata": {
        "colab": {
          "base_uri": "https://localhost:8080/"
        },
        "id": "6af78d44",
        "outputId": "2e883859-50e9-48e0-8a48-76b3bab2036f"
      },
      "outputs": [
        {
          "output_type": "execute_result",
          "data": {
            "text/plain": [
              "(708,)"
            ]
          },
          "metadata": {},
          "execution_count": 90
        }
      ],
      "source": [
        "emojis_reviews.shape"
      ]
    },
    {
      "cell_type": "code",
      "execution_count": null,
      "id": "fa41dbc4",
      "metadata": {
        "id": "fa41dbc4"
      },
      "outputs": [],
      "source": [
        "# remove the emoji from the text\n",
        "\n",
        "# Function to remove emojis from a text while preserving attached words\n",
        "def remove_emojis(text):\n",
        "    emoji_pattern = re.compile(\"[\"\n",
        "                               u\"\\U0001F600-\\U0001F64F\"  # emoticons\n",
        "                               u\"\\U0001F300-\\U0001F5FF\"  # symbols & pictographs\n",
        "                               u\"\\U0001F680-\\U0001F6FF\"  # transport & map symbols\n",
        "                               u\"\\U0001F700-\\U0001F77F\"  # alchemical symbols\n",
        "                               u\"\\U0001F780-\\U0001F7FF\"  # Geometric Shapes Extended\n",
        "                               u\"\\U0001F800-\\U0001F8FF\"  # Supplemental Arrows-C\n",
        "                               u\"\\U0001F900-\\U0001F9FF\"  # Supplemental Symbols and Pictographs\n",
        "                               u\"\\U0001FA00-\\U0001FA6F\"  # Chess Symbols\n",
        "                               u\"\\U0001FA70-\\U0001FAFF\"  # Symbols and Pictographs Extended-A\n",
        "                               u\"\\U00002702-\\U000027B0\"  # Dingbats\n",
        "                               u\"\\U000024C2-\\U0001F251\"\n",
        "                               \"]+\", flags=re.UNICODE)\n",
        "    return emoji_pattern.sub(r'', text)\n",
        "\n",
        "data_set['Review'] = data_set['Review'].apply(remove_emojis)"
      ]
    },
    {
      "cell_type": "code",
      "execution_count": null,
      "id": "b5599c2d",
      "metadata": {
        "id": "b5599c2d"
      },
      "outputs": [],
      "source": [
        "# save the data\n",
        "\n",
        "data_set.to_csv(\"cleaned_rest_review.csv\")"
      ]
    },
    {
      "cell_type": "code",
      "execution_count": null,
      "id": "07ef6a48",
      "metadata": {
        "id": "07ef6a48"
      },
      "outputs": [],
      "source": [
        "# loading saved data\n",
        "data_set = pd.read_csv(\"cleaned_rest_review.csv\")"
      ]
    },
    {
      "cell_type": "code",
      "execution_count": null,
      "id": "c9375d9f",
      "metadata": {
        "id": "c9375d9f"
      },
      "outputs": [],
      "source": [
        "data_set = data_set[~data_set['Review'].isna()]\n",
        "data_set.reset_index(inplace=True)"
      ]
    },
    {
      "cell_type": "code",
      "source": [
        "# helper function to get simple pos\n",
        "def get_simple_pos(tag):\n",
        "    if tag.startswith('J'):\n",
        "        return wordnet.ADJ\n",
        "    if tag.startswith('V'):\n",
        "        return wordnet.VERB\n",
        "    if tag.startswith('N'):\n",
        "        return wordnet.NOUN\n",
        "    if tag.startswith('R'):\n",
        "        return wordnet.ADV\n",
        "    else:\n",
        "        return wordnet.NOUN"
      ],
      "metadata": {
        "id": "JH0jW5F31Wus"
      },
      "id": "JH0jW5F31Wus",
      "execution_count": null,
      "outputs": []
    },
    {
      "cell_type": "code",
      "source": [
        "lemmatizer = WordNetLemmatizer()\n",
        "stop_words = set(stopwords.words('english'))\n",
        "# adding punctuations to stopwords\n",
        "stop_words.update(list(punctuation))\n",
        "\n",
        "def clean_review(words):\n",
        "    output_words = []\n",
        "    for word in words:\n",
        "        # to store the output words\n",
        "        if word.lower() not in stop_words:\n",
        "            # actual pos\n",
        "            pos = pos_tag([word])   # passing the word as an array because pos_tag expect and array of words,\n",
        "                                    # otherwise will get the pos_tag of each character in the word\n",
        "            # simple pos\n",
        "            pos = get_simple_pos(pos[0][1])  # the position of the tag is 1 in the tuple of pos which is the output from above statement\n",
        "            clean_word = lemmatizer.lemmatize(word,pos)\n",
        "            output_words.append(clean_word.lower())\n",
        "    return output_words"
      ],
      "metadata": {
        "id": "KeYSc63H1qrp"
      },
      "id": "KeYSc63H1qrp",
      "execution_count": null,
      "outputs": []
    },
    {
      "cell_type": "code",
      "execution_count": null,
      "id": "ddb82dd3",
      "metadata": {
        "id": "ddb82dd3"
      },
      "outputs": [],
      "source": [
        "# build the corpus\n",
        "ps = PorterStemmer()\n",
        "lemmatizer = WordNetLemmatizer()\n",
        "\n",
        "all_stopwords = stopwords.words('english')\n",
        "all_stopwords.remove('not')\n",
        "all_stopwords = set(all_stopwords)\n",
        "all_stopwords.update(list(punctuation))"
      ]
    },
    {
      "cell_type": "code",
      "execution_count": null,
      "id": "2f04a22e",
      "metadata": {
        "id": "2f04a22e"
      },
      "outputs": [],
      "source": [
        "# an array to append all the cleaned text as corpus\n",
        "\n",
        "def get_corpus(data):\n",
        "    corpus = []\n",
        "\n",
        "    for i in range(0, len(data)):\n",
        "        review = re.sub(r'[^a-zA-Z]',' ',data[i])\n",
        "        review = review.lower().split()\n",
        "        output_words = []\n",
        "        for word in review:\n",
        "          if word.lower() not in all_stopwords:\n",
        "            pos = pos_tag([word])\n",
        "            pos = get_simple_pos(pos[0][1])\n",
        "            clean_word = lemmatizer.lemmatize(word,pos)\n",
        "            output_words.append(clean_word)\n",
        "        review = ' '.join(output_words)\n",
        "        corpus.append(review)\n",
        "    return corpus"
      ]
    },
    {
      "cell_type": "code",
      "execution_count": null,
      "id": "b7a6528e",
      "metadata": {
        "id": "b7a6528e"
      },
      "outputs": [],
      "source": [
        "corpus = get_corpus(data_set['Review'])"
      ]
    },
    {
      "cell_type": "markdown",
      "id": "0c8b8d6e",
      "metadata": {
        "id": "0c8b8d6e"
      },
      "source": [
        "### Data Transformation"
      ]
    },
    {
      "cell_type": "code",
      "execution_count": null,
      "id": "d237ddee",
      "metadata": {
        "id": "d237ddee"
      },
      "outputs": [],
      "source": [
        "# bag of words approach\n",
        "\n",
        "from sklearn.feature_extraction.text import CountVectorizer\n",
        "cv = CountVectorizer(max_features=5000,ngram_range=(1,3))"
      ]
    },
    {
      "cell_type": "code",
      "execution_count": null,
      "id": "efc93720",
      "metadata": {
        "id": "efc93720"
      },
      "outputs": [],
      "source": [
        "X = cv.fit_transform(corpus).toarray()\n",
        "y = data_set['Liked'].values"
      ]
    },
    {
      "cell_type": "code",
      "execution_count": null,
      "id": "efe8adf6",
      "metadata": {
        "id": "efe8adf6"
      },
      "outputs": [],
      "source": [
        "# saving bow dictionary\n",
        "\n",
        "import pickle\n",
        "bow_path = 'bow_sentiment_model.pkl'\n",
        "pickle.dump(cv,open(bow_path,'wb'))"
      ]
    },
    {
      "cell_type": "code",
      "execution_count": null,
      "id": "80556186",
      "metadata": {
        "id": "80556186"
      },
      "outputs": [],
      "source": [
        "# split the train and test set\n",
        "\n",
        "from sklearn.model_selection import train_test_split\n",
        "\n",
        "X_train, X_test, y_train, y_test = train_test_split(X,y,test_size = 0.20,random_state = 23)"
      ]
    },
    {
      "cell_type": "markdown",
      "id": "e9db4ba4",
      "metadata": {
        "id": "e9db4ba4"
      },
      "source": [
        "### Model Building"
      ]
    },
    {
      "cell_type": "code",
      "execution_count": null,
      "id": "6b41568c",
      "metadata": {
        "id": "6b41568c"
      },
      "outputs": [],
      "source": [
        "# using naive bayes"
      ]
    },
    {
      "cell_type": "code",
      "execution_count": null,
      "id": "ad64a20e",
      "metadata": {
        "id": "ad64a20e"
      },
      "outputs": [],
      "source": [
        "from sklearn.naive_bayes import GaussianNB\n",
        "nb_classifier = GaussianNB()"
      ]
    },
    {
      "cell_type": "code",
      "execution_count": null,
      "id": "3d09f20a",
      "metadata": {
        "colab": {
          "base_uri": "https://localhost:8080/",
          "height": 74
        },
        "id": "3d09f20a",
        "outputId": "370c7ce5-d395-4e9e-b0c0-ee863a661c73"
      },
      "outputs": [
        {
          "output_type": "execute_result",
          "data": {
            "text/plain": [
              "GaussianNB()"
            ],
            "text/html": [
              "<style>#sk-container-id-1 {color: black;background-color: white;}#sk-container-id-1 pre{padding: 0;}#sk-container-id-1 div.sk-toggleable {background-color: white;}#sk-container-id-1 label.sk-toggleable__label {cursor: pointer;display: block;width: 100%;margin-bottom: 0;padding: 0.3em;box-sizing: border-box;text-align: center;}#sk-container-id-1 label.sk-toggleable__label-arrow:before {content: \"▸\";float: left;margin-right: 0.25em;color: #696969;}#sk-container-id-1 label.sk-toggleable__label-arrow:hover:before {color: black;}#sk-container-id-1 div.sk-estimator:hover label.sk-toggleable__label-arrow:before {color: black;}#sk-container-id-1 div.sk-toggleable__content {max-height: 0;max-width: 0;overflow: hidden;text-align: left;background-color: #f0f8ff;}#sk-container-id-1 div.sk-toggleable__content pre {margin: 0.2em;color: black;border-radius: 0.25em;background-color: #f0f8ff;}#sk-container-id-1 input.sk-toggleable__control:checked~div.sk-toggleable__content {max-height: 200px;max-width: 100%;overflow: auto;}#sk-container-id-1 input.sk-toggleable__control:checked~label.sk-toggleable__label-arrow:before {content: \"▾\";}#sk-container-id-1 div.sk-estimator input.sk-toggleable__control:checked~label.sk-toggleable__label {background-color: #d4ebff;}#sk-container-id-1 div.sk-label input.sk-toggleable__control:checked~label.sk-toggleable__label {background-color: #d4ebff;}#sk-container-id-1 input.sk-hidden--visually {border: 0;clip: rect(1px 1px 1px 1px);clip: rect(1px, 1px, 1px, 1px);height: 1px;margin: -1px;overflow: hidden;padding: 0;position: absolute;width: 1px;}#sk-container-id-1 div.sk-estimator {font-family: monospace;background-color: #f0f8ff;border: 1px dotted black;border-radius: 0.25em;box-sizing: border-box;margin-bottom: 0.5em;}#sk-container-id-1 div.sk-estimator:hover {background-color: #d4ebff;}#sk-container-id-1 div.sk-parallel-item::after {content: \"\";width: 100%;border-bottom: 1px solid gray;flex-grow: 1;}#sk-container-id-1 div.sk-label:hover label.sk-toggleable__label {background-color: #d4ebff;}#sk-container-id-1 div.sk-serial::before {content: \"\";position: absolute;border-left: 1px solid gray;box-sizing: border-box;top: 0;bottom: 0;left: 50%;z-index: 0;}#sk-container-id-1 div.sk-serial {display: flex;flex-direction: column;align-items: center;background-color: white;padding-right: 0.2em;padding-left: 0.2em;position: relative;}#sk-container-id-1 div.sk-item {position: relative;z-index: 1;}#sk-container-id-1 div.sk-parallel {display: flex;align-items: stretch;justify-content: center;background-color: white;position: relative;}#sk-container-id-1 div.sk-item::before, #sk-container-id-1 div.sk-parallel-item::before {content: \"\";position: absolute;border-left: 1px solid gray;box-sizing: border-box;top: 0;bottom: 0;left: 50%;z-index: -1;}#sk-container-id-1 div.sk-parallel-item {display: flex;flex-direction: column;z-index: 1;position: relative;background-color: white;}#sk-container-id-1 div.sk-parallel-item:first-child::after {align-self: flex-end;width: 50%;}#sk-container-id-1 div.sk-parallel-item:last-child::after {align-self: flex-start;width: 50%;}#sk-container-id-1 div.sk-parallel-item:only-child::after {width: 0;}#sk-container-id-1 div.sk-dashed-wrapped {border: 1px dashed gray;margin: 0 0.4em 0.5em 0.4em;box-sizing: border-box;padding-bottom: 0.4em;background-color: white;}#sk-container-id-1 div.sk-label label {font-family: monospace;font-weight: bold;display: inline-block;line-height: 1.2em;}#sk-container-id-1 div.sk-label-container {text-align: center;}#sk-container-id-1 div.sk-container {/* jupyter's `normalize.less` sets `[hidden] { display: none; }` but bootstrap.min.css set `[hidden] { display: none !important; }` so we also need the `!important` here to be able to override the default hidden behavior on the sphinx rendered scikit-learn.org. See: https://github.com/scikit-learn/scikit-learn/issues/21755 */display: inline-block !important;position: relative;}#sk-container-id-1 div.sk-text-repr-fallback {display: none;}</style><div id=\"sk-container-id-1\" class=\"sk-top-container\"><div class=\"sk-text-repr-fallback\"><pre>GaussianNB()</pre><b>In a Jupyter environment, please rerun this cell to show the HTML representation or trust the notebook. <br />On GitHub, the HTML representation is unable to render, please try loading this page with nbviewer.org.</b></div><div class=\"sk-container\" hidden><div class=\"sk-item\"><div class=\"sk-estimator sk-toggleable\"><input class=\"sk-toggleable__control sk-hidden--visually\" id=\"sk-estimator-id-1\" type=\"checkbox\" checked><label for=\"sk-estimator-id-1\" class=\"sk-toggleable__label sk-toggleable__label-arrow\">GaussianNB</label><div class=\"sk-toggleable__content\"><pre>GaussianNB()</pre></div></div></div></div></div>"
            ]
          },
          "metadata": {},
          "execution_count": 116
        }
      ],
      "source": [
        "nb_classifier.fit(X_train,y_train)"
      ]
    },
    {
      "cell_type": "markdown",
      "id": "111b93b8",
      "metadata": {
        "id": "111b93b8"
      },
      "source": [
        "### performance evaluation"
      ]
    },
    {
      "cell_type": "code",
      "execution_count": null,
      "id": "e5ff1489",
      "metadata": {
        "id": "e5ff1489"
      },
      "outputs": [],
      "source": [
        "from sklearn.metrics import confusion_matrix,accuracy_score"
      ]
    },
    {
      "cell_type": "code",
      "execution_count": null,
      "id": "c9b1eb2e",
      "metadata": {
        "colab": {
          "base_uri": "https://localhost:8080/"
        },
        "id": "c9b1eb2e",
        "outputId": "8157ed7a-2f24-4d2c-b086-6189e13ea3cb"
      },
      "outputs": [
        {
          "output_type": "stream",
          "name": "stdout",
          "text": [
            "[[ 506  117]\n",
            " [ 540 1027]]\n"
          ]
        },
        {
          "output_type": "execute_result",
          "data": {
            "text/plain": [
              "0.7"
            ]
          },
          "metadata": {},
          "execution_count": 118
        }
      ],
      "source": [
        "y_pred = nb_classifier.predict(X_test)\n",
        "cm = confusion_matrix(y_test,y_pred)\n",
        "print(cm)\n",
        "\n",
        "accuracy_score(y_test,y_pred)"
      ]
    },
    {
      "cell_type": "code",
      "execution_count": null,
      "id": "c6772cea",
      "metadata": {
        "colab": {
          "base_uri": "https://localhost:8080/"
        },
        "id": "c6772cea",
        "outputId": "6143e990-318d-41e7-b681-c514c24e235f"
      },
      "outputs": [
        {
          "output_type": "execute_result",
          "data": {
            "text/plain": [
              "0.8579908675799087"
            ]
          },
          "metadata": {},
          "execution_count": 119
        }
      ],
      "source": [
        "### SVC\n",
        "from sklearn.svm import SVC\n",
        "# let fit and test the results\n",
        "\n",
        "svc = SVC(C=100,kernel='rbf')\n",
        "\n",
        "svc.fit(X_train,y_train)\n",
        "\n",
        "svc.score(X_test,y_test)"
      ]
    },
    {
      "cell_type": "code",
      "execution_count": null,
      "id": "3b62ec0e",
      "metadata": {
        "colab": {
          "base_uri": "https://localhost:8080/"
        },
        "id": "3b62ec0e",
        "outputId": "54d87c92-296e-4abf-9712-da4cb8a1a224"
      },
      "outputs": [
        {
          "output_type": "execute_result",
          "data": {
            "text/plain": [
              "0.8803652968036529"
            ]
          },
          "metadata": {},
          "execution_count": 120
        }
      ],
      "source": [
        "### Random Forest\n",
        "\n",
        "from sklearn.ensemble import RandomForestClassifier\n",
        "\n",
        "rfc = RandomForestClassifier(n_jobs = -1)\n",
        "\n",
        "rfc.fit(X_train,y_train)\n",
        "rfc.score(X_test,y_test)"
      ]
    },
    {
      "cell_type": "code",
      "execution_count": null,
      "id": "e9fcca7b",
      "metadata": {
        "colab": {
          "base_uri": "https://localhost:8080/"
        },
        "id": "e9fcca7b",
        "outputId": "baa62954-207d-4766-d009-7b4a7d03974b"
      },
      "outputs": [
        {
          "output_type": "execute_result",
          "data": {
            "text/plain": [
              "['rfc_sentiment_classifier_model_61_ac']"
            ]
          },
          "metadata": {},
          "execution_count": 124
        }
      ],
      "source": [
        "# lets save svc model to predict future predictions\n",
        "import joblib\n",
        "\n",
        "joblib.dump(rfc,'rfc_sentiment_classifier_model_61_ac')"
      ]
    },
    {
      "cell_type": "code",
      "execution_count": null,
      "id": "1c90d9aa",
      "metadata": {
        "id": "1c90d9aa"
      },
      "outputs": [],
      "source": [
        "review_test_p = [\"I recently had the pleasure of dining here, and it was an experience that exceeded all my expectations. From the moment we walked in, the ambiance set the stage for what was to be a memorable evening. The staff greeted us warmly, ensuring we felt welcomed and valued.The menu selection was impressive, offering a variety of dishes that catered to all preferences, including several innovative options for those with dietary restrictions. Each dish we ordered was a testament to the chef's expertise and passion for culinary excellence. The flavors were balanced perfectly, with each ingredient shining through without overpowering the others.What truly set this place apart was the attention to detail. The presentation of the food was artistic, the timing between courses was impeccable, and the staff went above and beyond to accommodate our requests, making us feel truly special.I cannot recommend this place enough. Whether you’re looking for a place to celebrate a special occasion or just in search of a delightful dining experience, this should be at the top of your list. We’re already looking forward to our next visit!\"]\n",
        "review_test_n = [\"Unfortunately, my recent visit to the restaurant left much to be desired. Despite the high expectations set by its reputation, the experience was underwhelming from start to finish. Upon arrival, the greeting was lukewarm, and it took a noticeable amount of time before we were seated, despite having reservations.The menu, while extensive, seemed to lack coherence, and the descriptions did little to entice the palate or clarify what one might expect from each dish. When our orders finally arrived, the presentation was lackluster, and the flavors were surprisingly bland. A particular disappointment was the main course, which was not only overcooked but also arrived lukewarm, suggesting it had been sitting out for some time.Service throughout the evening was inconsistent; our server seemed disinterested and was seldom seen. Attempts to address our concerns about the meal were met with indifference, leaving us feeling unvalued as customers.Given the price point and the establishment's reputation, I expected a dining experience that delighted the senses and showcased culinary excellence. Unfortunately, what I encountered was a forgettable meal paired with service that failed to meet even basic standards of hospitality. It's unlikely I'll return or recommend this restaurant to others based on this visit.\"]\n",
        "review_test_neu = [\"My recent visit to the restaurant was a mixed experience. Walking in, the ambiance of the place was inviting, with a nicely decorated interior that promised a cozy dining atmosphere. The staff greeted us politely and seated us without delay, which was a good start to the evening.The menu presented a wide array of options, ranging from traditional favorites to some intriguing chef specials. It took some time to make our selections, partly due to the variety and partly because the menu descriptions could have been more detailed.When the food arrived, the presentation was decent, and the portions were generous. Some of the dishes we tried were quite satisfying, offering a good balance of flavors and freshness. However, a few items fell short of expectations, lacking the depth of flavor we anticipated. It was a hit or miss on the culinary front.Service was generally efficient, though it lacked the warmth and attentiveness that elevate a dining experience from good to great. Our server was courteous but seemed rushed, making our interactions feel somewhat transactional.The overall value for the money was fair, considering the portion sizes and the quality of the ingredients used. However, the inconsistency in the food and service left us feeling that while the restaurant has potential, there's room for improvement in execution and attention to detail.In conclusion, while the visit didn't fully meet our expectations, it wasn't a disappointing experience either. For those considering dining here, there might be dishes that delight, but I'd recommend managing your expectations when it comes to service and some menu items.\"]"
      ]
    },
    {
      "cell_type": "code",
      "execution_count": null,
      "id": "9e2d4bd1",
      "metadata": {
        "id": "9e2d4bd1"
      },
      "outputs": [],
      "source": [
        "corp_test_sample = get_corpus(review_test_p)"
      ]
    },
    {
      "cell_type": "code",
      "execution_count": null,
      "id": "72c43a74",
      "metadata": {
        "id": "72c43a74"
      },
      "outputs": [],
      "source": [
        "x_new_test = cv.transform(corp_test_sample).toarray()"
      ]
    },
    {
      "cell_type": "code",
      "execution_count": null,
      "id": "653e9bfd",
      "metadata": {
        "colab": {
          "base_uri": "https://localhost:8080/"
        },
        "id": "653e9bfd",
        "outputId": "895d5362-4fbe-4c09-bf7e-7974fa4e64d5"
      },
      "outputs": [
        {
          "output_type": "execute_result",
          "data": {
            "text/plain": [
              "array([1])"
            ]
          },
          "metadata": {},
          "execution_count": 139
        }
      ],
      "source": [
        "y_pred_new =  svc.predict(x_new_test)\n",
        "y_pred_new"
      ]
    },
    {
      "cell_type": "code",
      "execution_count": null,
      "id": "e836721c",
      "metadata": {
        "colab": {
          "base_uri": "https://localhost:8080/"
        },
        "id": "e836721c",
        "outputId": "147e1891-76fd-4f53-a4e7-de6453c0ec1a"
      },
      "outputs": [
        {
          "output_type": "execute_result",
          "data": {
            "text/plain": [
              "array([[0, 0, 0, ..., 0, 0, 0]])"
            ]
          },
          "metadata": {},
          "execution_count": 140
        }
      ],
      "source": [
        "x_new_test"
      ]
    },
    {
      "cell_type": "code",
      "source": [],
      "metadata": {
        "id": "yjjvmRBI40M2"
      },
      "id": "yjjvmRBI40M2",
      "execution_count": null,
      "outputs": []
    }
  ],
  "metadata": {
    "kernelspec": {
      "display_name": "Python 3",
      "name": "python3"
    },
    "language_info": {
      "codemirror_mode": {
        "name": "ipython",
        "version": 3
      },
      "file_extension": ".py",
      "mimetype": "text/x-python",
      "name": "python",
      "nbconvert_exporter": "python",
      "pygments_lexer": "ipython3",
      "version": "3.7.11"
    },
    "colab": {
      "provenance": [],
      "gpuType": "T4",
      "include_colab_link": true
    },
    "accelerator": "GPU"
  },
  "nbformat": 4,
  "nbformat_minor": 5
}